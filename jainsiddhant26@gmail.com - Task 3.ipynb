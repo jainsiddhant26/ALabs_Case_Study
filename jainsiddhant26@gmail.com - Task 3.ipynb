{
 "cells": [
  {
   "cell_type": "code",
   "execution_count": 33,
   "id": "b7b24749",
   "metadata": {},
   "outputs": [],
   "source": [
    "import pandas as pd\n",
    "import numpy as np\n",
    "import matplotlib.pyplot as plt"
   ]
  },
  {
   "cell_type": "code",
   "execution_count": 34,
   "id": "2ee7f336",
   "metadata": {},
   "outputs": [
    {
     "data": {
      "text/html": [
       "<div>\n",
       "<style scoped>\n",
       "    .dataframe tbody tr th:only-of-type {\n",
       "        vertical-align: middle;\n",
       "    }\n",
       "\n",
       "    .dataframe tbody tr th {\n",
       "        vertical-align: top;\n",
       "    }\n",
       "\n",
       "    .dataframe thead th {\n",
       "        text-align: right;\n",
       "    }\n",
       "</style>\n",
       "<table border=\"1\" class=\"dataframe\">\n",
       "  <thead>\n",
       "    <tr style=\"text-align: right;\">\n",
       "      <th></th>\n",
       "      <th>ORDER_NUMBER</th>\n",
       "      <th>CUSTOMER_KEY</th>\n",
       "      <th>ORDER_TOTAL</th>\n",
       "      <th>DISCOUNT</th>\n",
       "      <th>ORDER_DATE</th>\n",
       "      <th>ORDER_STATUS</th>\n",
       "      <th>DELIVERY_STATUS</th>\n",
       "    </tr>\n",
       "  </thead>\n",
       "  <tbody>\n",
       "    <tr>\n",
       "      <th>0</th>\n",
       "      <td>O100000</td>\n",
       "      <td>C100000</td>\n",
       "      <td>85.00</td>\n",
       "      <td>0.0</td>\n",
       "      <td>2016-05-18</td>\n",
       "      <td>Delivered</td>\n",
       "      <td>ON-TIME</td>\n",
       "    </tr>\n",
       "    <tr>\n",
       "      <th>1</th>\n",
       "      <td>O100001</td>\n",
       "      <td>C100001</td>\n",
       "      <td>307.52</td>\n",
       "      <td>0.0</td>\n",
       "      <td>2016-05-18</td>\n",
       "      <td>Delivered</td>\n",
       "      <td>ON-TIME</td>\n",
       "    </tr>\n",
       "    <tr>\n",
       "      <th>2</th>\n",
       "      <td>O100002</td>\n",
       "      <td>C100002</td>\n",
       "      <td>0.00</td>\n",
       "      <td>0.0</td>\n",
       "      <td>2016-05-18</td>\n",
       "      <td>Delivered</td>\n",
       "      <td>ON-TIME</td>\n",
       "    </tr>\n",
       "    <tr>\n",
       "      <th>3</th>\n",
       "      <td>O100003</td>\n",
       "      <td>C100003</td>\n",
       "      <td>153.73</td>\n",
       "      <td>0.0</td>\n",
       "      <td>2016-05-18</td>\n",
       "      <td>Delivered</td>\n",
       "      <td>ON-TIME</td>\n",
       "    </tr>\n",
       "    <tr>\n",
       "      <th>4</th>\n",
       "      <td>O100004</td>\n",
       "      <td>C100004</td>\n",
       "      <td>-39.55</td>\n",
       "      <td>0.0</td>\n",
       "      <td>2016-05-18</td>\n",
       "      <td>Delivered</td>\n",
       "      <td>ON-TIME</td>\n",
       "    </tr>\n",
       "  </tbody>\n",
       "</table>\n",
       "</div>"
      ],
      "text/plain": [
       "  ORDER_NUMBER CUSTOMER_KEY  ORDER_TOTAL  DISCOUNT ORDER_DATE ORDER_STATUS  \\\n",
       "0      O100000      C100000        85.00       0.0 2016-05-18    Delivered   \n",
       "1      O100001      C100001       307.52       0.0 2016-05-18    Delivered   \n",
       "2      O100002      C100002         0.00       0.0 2016-05-18    Delivered   \n",
       "3      O100003      C100003       153.73       0.0 2016-05-18    Delivered   \n",
       "4      O100004      C100004       -39.55       0.0 2016-05-18    Delivered   \n",
       "\n",
       "  DELIVERY_STATUS  \n",
       "0         ON-TIME  \n",
       "1         ON-TIME  \n",
       "2         ON-TIME  \n",
       "3         ON-TIME  \n",
       "4         ON-TIME  "
      ]
     },
     "execution_count": 34,
     "metadata": {},
     "output_type": "execute_result"
    }
   ],
   "source": [
    "orders = pd.read_excel(r\"d:\\Users\\HP\\Desktop\\Siddhant Jain\\ALabs\\Internship Screening Case Study\\Internship Screening Case Study.xlsx\",\n",
    "                  sheet_name = \"Orders Data\",\n",
    "                  header= 0,\n",
    "                  parse_dates=['ORDER_DATE'])\n",
    "orders.head()"
   ]
  },
  {
   "cell_type": "code",
   "execution_count": 35,
   "id": "b192b75d",
   "metadata": {},
   "outputs": [
    {
     "data": {
      "text/html": [
       "<div>\n",
       "<style scoped>\n",
       "    .dataframe tbody tr th:only-of-type {\n",
       "        vertical-align: middle;\n",
       "    }\n",
       "\n",
       "    .dataframe tbody tr th {\n",
       "        vertical-align: top;\n",
       "    }\n",
       "\n",
       "    .dataframe thead th {\n",
       "        text-align: right;\n",
       "    }\n",
       "</style>\n",
       "<table border=\"1\" class=\"dataframe\">\n",
       "  <thead>\n",
       "    <tr style=\"text-align: right;\">\n",
       "      <th></th>\n",
       "      <th>CUSTOMER_ID</th>\n",
       "      <th>CUSTOMER_KEY</th>\n",
       "      <th>CONTACT_NUMBER</th>\n",
       "      <th>Referred Other customers</th>\n",
       "      <th>Gender</th>\n",
       "      <th>Location</th>\n",
       "      <th>Acquired Channel</th>\n",
       "    </tr>\n",
       "  </thead>\n",
       "  <tbody>\n",
       "    <tr>\n",
       "      <th>0</th>\n",
       "      <td>1</td>\n",
       "      <td>C100000</td>\n",
       "      <td>9693593216</td>\n",
       "      <td>N</td>\n",
       "      <td>M</td>\n",
       "      <td>Chennai</td>\n",
       "      <td>APP</td>\n",
       "    </tr>\n",
       "    <tr>\n",
       "      <th>1</th>\n",
       "      <td>2</td>\n",
       "      <td>C100001</td>\n",
       "      <td>9770151476</td>\n",
       "      <td>Y</td>\n",
       "      <td>M</td>\n",
       "      <td>Bangalore</td>\n",
       "      <td>WEBSITE</td>\n",
       "    </tr>\n",
       "    <tr>\n",
       "      <th>2</th>\n",
       "      <td>3</td>\n",
       "      <td>C100002</td>\n",
       "      <td>9779085726</td>\n",
       "      <td>N</td>\n",
       "      <td>M</td>\n",
       "      <td>Gurgaon</td>\n",
       "      <td>WEBSITE</td>\n",
       "    </tr>\n",
       "    <tr>\n",
       "      <th>3</th>\n",
       "      <td>4</td>\n",
       "      <td>C100003</td>\n",
       "      <td>9298611643</td>\n",
       "      <td>N</td>\n",
       "      <td>M</td>\n",
       "      <td>Gurgaon</td>\n",
       "      <td>APP</td>\n",
       "    </tr>\n",
       "    <tr>\n",
       "      <th>4</th>\n",
       "      <td>5</td>\n",
       "      <td>C100004</td>\n",
       "      <td>9929250328</td>\n",
       "      <td>Y</td>\n",
       "      <td>M</td>\n",
       "      <td>Chennai</td>\n",
       "      <td>APP</td>\n",
       "    </tr>\n",
       "  </tbody>\n",
       "</table>\n",
       "</div>"
      ],
      "text/plain": [
       "   CUSTOMER_ID CUSTOMER_KEY  CONTACT_NUMBER Referred Other customers Gender  \\\n",
       "0            1      C100000      9693593216                        N      M   \n",
       "1            2      C100001      9770151476                        Y      M   \n",
       "2            3      C100002      9779085726                        N      M   \n",
       "3            4      C100003      9298611643                        N      M   \n",
       "4            5      C100004      9929250328                        Y      M   \n",
       "\n",
       "    Location Acquired Channel  \n",
       "0    Chennai              APP  \n",
       "1  Bangalore          WEBSITE  \n",
       "2    Gurgaon          WEBSITE  \n",
       "3    Gurgaon              APP  \n",
       "4    Chennai              APP  "
      ]
     },
     "execution_count": 35,
     "metadata": {},
     "output_type": "execute_result"
    }
   ],
   "source": [
    "customer = pd.read_excel(r\"d:\\Users\\HP\\Desktop\\Siddhant Jain\\ALabs\\Internship Screening Case Study\\Internship Screening Case Study.xlsx\",\n",
    "                  sheet_name = \"Customer Data\",\n",
    "                  header= 0)\n",
    "customer.head()"
   ]
  },
  {
   "cell_type": "code",
   "execution_count": 36,
   "id": "57e05d5f",
   "metadata": {},
   "outputs": [
    {
     "data": {
      "text/html": [
       "<div>\n",
       "<style scoped>\n",
       "    .dataframe tbody tr th:only-of-type {\n",
       "        vertical-align: middle;\n",
       "    }\n",
       "\n",
       "    .dataframe tbody tr th {\n",
       "        vertical-align: top;\n",
       "    }\n",
       "\n",
       "    .dataframe thead th {\n",
       "        text-align: right;\n",
       "    }\n",
       "</style>\n",
       "<table border=\"1\" class=\"dataframe\">\n",
       "  <thead>\n",
       "    <tr style=\"text-align: right;\">\n",
       "      <th></th>\n",
       "      <th>ORDER_NUMBER</th>\n",
       "      <th>CUSTOMER_KEY</th>\n",
       "      <th>ORDER_TOTAL</th>\n",
       "      <th>DISCOUNT</th>\n",
       "      <th>ORDER_DATE</th>\n",
       "      <th>ORDER_STATUS</th>\n",
       "      <th>DELIVERY_STATUS</th>\n",
       "      <th>CUSTOMER_ID</th>\n",
       "      <th>CONTACT_NUMBER</th>\n",
       "      <th>Referred Other customers</th>\n",
       "      <th>Gender</th>\n",
       "      <th>Location</th>\n",
       "      <th>Acquired Channel</th>\n",
       "    </tr>\n",
       "  </thead>\n",
       "  <tbody>\n",
       "    <tr>\n",
       "      <th>0</th>\n",
       "      <td>O100000</td>\n",
       "      <td>C100000</td>\n",
       "      <td>85.0</td>\n",
       "      <td>0.0</td>\n",
       "      <td>2016-05-18</td>\n",
       "      <td>Delivered</td>\n",
       "      <td>ON-TIME</td>\n",
       "      <td>1.0</td>\n",
       "      <td>9.693593e+09</td>\n",
       "      <td>N</td>\n",
       "      <td>M</td>\n",
       "      <td>Chennai</td>\n",
       "      <td>APP</td>\n",
       "    </tr>\n",
       "    <tr>\n",
       "      <th>1</th>\n",
       "      <td>O100000</td>\n",
       "      <td>C100000</td>\n",
       "      <td>85.0</td>\n",
       "      <td>0.0</td>\n",
       "      <td>2016-05-18</td>\n",
       "      <td>Delivered</td>\n",
       "      <td>ON-TIME</td>\n",
       "      <td>11.0</td>\n",
       "      <td>9.693593e+09</td>\n",
       "      <td>N</td>\n",
       "      <td>F</td>\n",
       "      <td>Gurgaon</td>\n",
       "      <td>WEBSITE</td>\n",
       "    </tr>\n",
       "    <tr>\n",
       "      <th>2</th>\n",
       "      <td>O100000</td>\n",
       "      <td>C100000</td>\n",
       "      <td>85.0</td>\n",
       "      <td>0.0</td>\n",
       "      <td>2016-05-18</td>\n",
       "      <td>Delivered</td>\n",
       "      <td>ON-TIME</td>\n",
       "      <td>18.0</td>\n",
       "      <td>9.693593e+09</td>\n",
       "      <td>N</td>\n",
       "      <td>F</td>\n",
       "      <td>Chennai</td>\n",
       "      <td>WEBSITE</td>\n",
       "    </tr>\n",
       "    <tr>\n",
       "      <th>3</th>\n",
       "      <td>O100000</td>\n",
       "      <td>C100000</td>\n",
       "      <td>85.0</td>\n",
       "      <td>0.0</td>\n",
       "      <td>2016-05-18</td>\n",
       "      <td>Delivered</td>\n",
       "      <td>ON-TIME</td>\n",
       "      <td>26.0</td>\n",
       "      <td>9.693593e+09</td>\n",
       "      <td>N</td>\n",
       "      <td>M</td>\n",
       "      <td>Others</td>\n",
       "      <td>WEBSITE</td>\n",
       "    </tr>\n",
       "    <tr>\n",
       "      <th>4</th>\n",
       "      <td>O100000</td>\n",
       "      <td>C100000</td>\n",
       "      <td>85.0</td>\n",
       "      <td>0.0</td>\n",
       "      <td>2016-05-18</td>\n",
       "      <td>Delivered</td>\n",
       "      <td>ON-TIME</td>\n",
       "      <td>6018.0</td>\n",
       "      <td>9.693593e+09</td>\n",
       "      <td>N</td>\n",
       "      <td>M</td>\n",
       "      <td>Gurgaon</td>\n",
       "      <td>WEBSITE</td>\n",
       "    </tr>\n",
       "  </tbody>\n",
       "</table>\n",
       "</div>"
      ],
      "text/plain": [
       "  ORDER_NUMBER CUSTOMER_KEY  ORDER_TOTAL  DISCOUNT ORDER_DATE ORDER_STATUS  \\\n",
       "0      O100000      C100000         85.0       0.0 2016-05-18    Delivered   \n",
       "1      O100000      C100000         85.0       0.0 2016-05-18    Delivered   \n",
       "2      O100000      C100000         85.0       0.0 2016-05-18    Delivered   \n",
       "3      O100000      C100000         85.0       0.0 2016-05-18    Delivered   \n",
       "4      O100000      C100000         85.0       0.0 2016-05-18    Delivered   \n",
       "\n",
       "  DELIVERY_STATUS  CUSTOMER_ID  CONTACT_NUMBER Referred Other customers  \\\n",
       "0         ON-TIME          1.0    9.693593e+09                        N   \n",
       "1         ON-TIME         11.0    9.693593e+09                        N   \n",
       "2         ON-TIME         18.0    9.693593e+09                        N   \n",
       "3         ON-TIME         26.0    9.693593e+09                        N   \n",
       "4         ON-TIME       6018.0    9.693593e+09                        N   \n",
       "\n",
       "  Gender Location Acquired Channel  \n",
       "0      M  Chennai              APP  \n",
       "1      F  Gurgaon          WEBSITE  \n",
       "2      F  Chennai          WEBSITE  \n",
       "3      M   Others          WEBSITE  \n",
       "4      M  Gurgaon          WEBSITE  "
      ]
     },
     "execution_count": 36,
     "metadata": {},
     "output_type": "execute_result"
    }
   ],
   "source": [
    "## Combining the datasets on CUSTOMER_KEY\n",
    "\n",
    "df = orders.merge(customer, how = 'outer', on = 'CUSTOMER_KEY')\n",
    "df.head()"
   ]
  },
  {
   "cell_type": "markdown",
   "id": "b235821b",
   "metadata": {},
   "source": [
    "### Q1. Total Revenue, total orders by each location"
   ]
  },
  {
   "cell_type": "code",
   "execution_count": 37,
   "id": "d12bf681",
   "metadata": {},
   "outputs": [
    {
     "data": {
      "text/html": [
       "<div>\n",
       "<style scoped>\n",
       "    .dataframe tbody tr th:only-of-type {\n",
       "        vertical-align: middle;\n",
       "    }\n",
       "\n",
       "    .dataframe tbody tr th {\n",
       "        vertical-align: top;\n",
       "    }\n",
       "\n",
       "    .dataframe thead th {\n",
       "        text-align: right;\n",
       "    }\n",
       "</style>\n",
       "<table border=\"1\" class=\"dataframe\">\n",
       "  <thead>\n",
       "    <tr style=\"text-align: right;\">\n",
       "      <th></th>\n",
       "      <th>Total_Revenue</th>\n",
       "      <th>Total_orders</th>\n",
       "    </tr>\n",
       "    <tr>\n",
       "      <th>Location</th>\n",
       "      <th></th>\n",
       "      <th></th>\n",
       "    </tr>\n",
       "  </thead>\n",
       "  <tbody>\n",
       "    <tr>\n",
       "      <th>Bangalore</th>\n",
       "      <td>2.649581e+07</td>\n",
       "      <td>34598</td>\n",
       "    </tr>\n",
       "    <tr>\n",
       "      <th>Chennai</th>\n",
       "      <td>4.863785e+07</td>\n",
       "      <td>62898</td>\n",
       "    </tr>\n",
       "    <tr>\n",
       "      <th>Gurgaon</th>\n",
       "      <td>5.405135e+07</td>\n",
       "      <td>68826</td>\n",
       "    </tr>\n",
       "    <tr>\n",
       "      <th>Others</th>\n",
       "      <td>5.848670e+06</td>\n",
       "      <td>7326</td>\n",
       "    </tr>\n",
       "  </tbody>\n",
       "</table>\n",
       "</div>"
      ],
      "text/plain": [
       "           Total_Revenue  Total_orders\n",
       "Location                              \n",
       "Bangalore   2.649581e+07         34598\n",
       "Chennai     4.863785e+07         62898\n",
       "Gurgaon     5.405135e+07         68826\n",
       "Others      5.848670e+06          7326"
      ]
     },
     "execution_count": 37,
     "metadata": {},
     "output_type": "execute_result"
    }
   ],
   "source": [
    "df.groupby(['Location']).agg(Total_Revenue = ('ORDER_TOTAL','sum'),Total_orders = ('ORDER_NUMBER','count'))"
   ]
  },
  {
   "cell_type": "markdown",
   "id": "e37b0191",
   "metadata": {},
   "source": [
    "### Q2. Total revenue, total orders by customer gender"
   ]
  },
  {
   "cell_type": "code",
   "execution_count": 38,
   "id": "a97c3f16",
   "metadata": {},
   "outputs": [
    {
     "data": {
      "text/html": [
       "<div>\n",
       "<style scoped>\n",
       "    .dataframe tbody tr th:only-of-type {\n",
       "        vertical-align: middle;\n",
       "    }\n",
       "\n",
       "    .dataframe tbody tr th {\n",
       "        vertical-align: top;\n",
       "    }\n",
       "\n",
       "    .dataframe thead th {\n",
       "        text-align: right;\n",
       "    }\n",
       "</style>\n",
       "<table border=\"1\" class=\"dataframe\">\n",
       "  <thead>\n",
       "    <tr style=\"text-align: right;\">\n",
       "      <th></th>\n",
       "      <th>Total_Revenue</th>\n",
       "      <th>Total_orders</th>\n",
       "    </tr>\n",
       "    <tr>\n",
       "      <th>Gender</th>\n",
       "      <th></th>\n",
       "      <th></th>\n",
       "    </tr>\n",
       "  </thead>\n",
       "  <tbody>\n",
       "    <tr>\n",
       "      <th>F</th>\n",
       "      <td>4.016046e+07</td>\n",
       "      <td>51748</td>\n",
       "    </tr>\n",
       "    <tr>\n",
       "      <th>M</th>\n",
       "      <td>9.487323e+07</td>\n",
       "      <td>121900</td>\n",
       "    </tr>\n",
       "  </tbody>\n",
       "</table>\n",
       "</div>"
      ],
      "text/plain": [
       "        Total_Revenue  Total_orders\n",
       "Gender                             \n",
       "F        4.016046e+07         51748\n",
       "M        9.487323e+07        121900"
      ]
     },
     "execution_count": 38,
     "metadata": {},
     "output_type": "execute_result"
    }
   ],
   "source": [
    "df.groupby(['Gender']).agg(Total_Revenue = ('ORDER_TOTAL','sum'),Total_orders = ('ORDER_NUMBER','count'))"
   ]
  },
  {
   "cell_type": "markdown",
   "id": "cad362d7",
   "metadata": {},
   "source": [
    "### Q3. Which location of customers cancelling orders maximum?"
   ]
  },
  {
   "cell_type": "code",
   "execution_count": 39,
   "id": "8984158a",
   "metadata": {},
   "outputs": [
    {
     "data": {
      "text/html": [
       "<div>\n",
       "<style scoped>\n",
       "    .dataframe tbody tr th:only-of-type {\n",
       "        vertical-align: middle;\n",
       "    }\n",
       "\n",
       "    .dataframe tbody tr th {\n",
       "        vertical-align: top;\n",
       "    }\n",
       "\n",
       "    .dataframe thead th {\n",
       "        text-align: right;\n",
       "    }\n",
       "</style>\n",
       "<table border=\"1\" class=\"dataframe\">\n",
       "  <thead>\n",
       "    <tr style=\"text-align: right;\">\n",
       "      <th></th>\n",
       "      <th>ORDER_STATUS</th>\n",
       "    </tr>\n",
       "    <tr>\n",
       "      <th>Location</th>\n",
       "      <th></th>\n",
       "    </tr>\n",
       "  </thead>\n",
       "  <tbody>\n",
       "    <tr>\n",
       "      <th>Gurgaon</th>\n",
       "      <td>476</td>\n",
       "    </tr>\n",
       "  </tbody>\n",
       "</table>\n",
       "</div>"
      ],
      "text/plain": [
       "          ORDER_STATUS\n",
       "Location              \n",
       "Gurgaon            476"
      ]
     },
     "execution_count": 39,
     "metadata": {},
     "output_type": "execute_result"
    }
   ],
   "source": [
    "df[df['ORDER_STATUS'] == 'Cancelled'].groupby(['Location'])[['ORDER_STATUS']].count().sort_values(by='ORDER_STATUS',ascending=False).head(1)"
   ]
  },
  {
   "cell_type": "markdown",
   "id": "e2c2cf71",
   "metadata": {},
   "source": [
    "### Q4. Total customers, Revenue, Orders by each Acquisition channel"
   ]
  },
  {
   "cell_type": "code",
   "execution_count": 40,
   "id": "e2874a82",
   "metadata": {},
   "outputs": [
    {
     "data": {
      "text/html": [
       "<div>\n",
       "<style scoped>\n",
       "    .dataframe tbody tr th:only-of-type {\n",
       "        vertical-align: middle;\n",
       "    }\n",
       "\n",
       "    .dataframe tbody tr th {\n",
       "        vertical-align: top;\n",
       "    }\n",
       "\n",
       "    .dataframe thead th {\n",
       "        text-align: right;\n",
       "    }\n",
       "</style>\n",
       "<table border=\"1\" class=\"dataframe\">\n",
       "  <thead>\n",
       "    <tr style=\"text-align: right;\">\n",
       "      <th></th>\n",
       "      <th>Total_customers</th>\n",
       "      <th>Total_Revenue</th>\n",
       "      <th>Total_orders</th>\n",
       "    </tr>\n",
       "    <tr>\n",
       "      <th>Acquired Channel</th>\n",
       "      <th></th>\n",
       "      <th></th>\n",
       "      <th></th>\n",
       "    </tr>\n",
       "  </thead>\n",
       "  <tbody>\n",
       "    <tr>\n",
       "      <th>APP</th>\n",
       "      <td>68281</td>\n",
       "      <td>5.344572e+07</td>\n",
       "      <td>68277</td>\n",
       "    </tr>\n",
       "    <tr>\n",
       "      <th>WEBSITE</th>\n",
       "      <td>105376</td>\n",
       "      <td>8.158797e+07</td>\n",
       "      <td>105371</td>\n",
       "    </tr>\n",
       "  </tbody>\n",
       "</table>\n",
       "</div>"
      ],
      "text/plain": [
       "                  Total_customers  Total_Revenue  Total_orders\n",
       "Acquired Channel                                              \n",
       "APP                         68281   5.344572e+07         68277\n",
       "WEBSITE                    105376   8.158797e+07        105371"
      ]
     },
     "execution_count": 40,
     "metadata": {},
     "output_type": "execute_result"
    }
   ],
   "source": [
    "df.groupby(['Acquired Channel']).agg(Total_customers = ('CUSTOMER_KEY','count'),Total_Revenue = ('ORDER_TOTAL','sum'),Total_orders = ('ORDER_NUMBER','count'))"
   ]
  },
  {
   "cell_type": "markdown",
   "id": "b6476752",
   "metadata": {},
   "source": [
    "### Q5. Which acquisition channel is good interms of revenue generation, maximum orders, repeat purchasers?"
   ]
  },
  {
   "cell_type": "code",
   "execution_count": 50,
   "id": "d0eab9c2",
   "metadata": {},
   "outputs": [
    {
     "data": {
      "text/html": [
       "<div>\n",
       "<style scoped>\n",
       "    .dataframe tbody tr th:only-of-type {\n",
       "        vertical-align: middle;\n",
       "    }\n",
       "\n",
       "    .dataframe tbody tr th {\n",
       "        vertical-align: top;\n",
       "    }\n",
       "\n",
       "    .dataframe thead th {\n",
       "        text-align: right;\n",
       "    }\n",
       "</style>\n",
       "<table border=\"1\" class=\"dataframe\">\n",
       "  <thead>\n",
       "    <tr style=\"text-align: right;\">\n",
       "      <th></th>\n",
       "      <th>Total_Revenue</th>\n",
       "      <th>Total_orders</th>\n",
       "      <th>Repeat_purchasers</th>\n",
       "    </tr>\n",
       "    <tr>\n",
       "      <th>Acquired Channel</th>\n",
       "      <th></th>\n",
       "      <th></th>\n",
       "      <th></th>\n",
       "    </tr>\n",
       "  </thead>\n",
       "  <tbody>\n",
       "    <tr>\n",
       "      <th>APP</th>\n",
       "      <td>5.344572e+07</td>\n",
       "      <td>68277</td>\n",
       "      <td>68281</td>\n",
       "    </tr>\n",
       "    <tr>\n",
       "      <th>WEBSITE</th>\n",
       "      <td>8.158797e+07</td>\n",
       "      <td>105371</td>\n",
       "      <td>105376</td>\n",
       "    </tr>\n",
       "  </tbody>\n",
       "</table>\n",
       "</div>"
      ],
      "text/plain": [
       "                  Total_Revenue  Total_orders  Repeat_purchasers\n",
       "Acquired Channel                                                \n",
       "APP                5.344572e+07         68277              68281\n",
       "WEBSITE            8.158797e+07        105371             105376"
      ]
     },
     "execution_count": 50,
     "metadata": {},
     "output_type": "execute_result"
    }
   ],
   "source": [
    "df.groupby(['Acquired Channel']).agg(Total_Revenue = ('ORDER_TOTAL','sum'),Total_orders = ('ORDER_NUMBER','count'), Repeat_purchasers = ('CUSTOMER_KEY','count') )"
   ]
  },
  {
   "cell_type": "markdown",
   "id": "cc38ff8b",
   "metadata": {},
   "source": [
    "### Q6. Write User Defined Function which can take input data set which create two data sets with numerical variables and categorical variables separately"
   ]
  },
  {
   "cell_type": "code",
   "execution_count": 67,
   "id": "81240971",
   "metadata": {},
   "outputs": [],
   "source": [
    "def categorical(x,y):\n",
    "    data_com = data_1.merge(data_2, how = 'outer', on = 'CUSTOMER_KEY')\n",
    "    \n",
    "    data_numerical = data_com.select_dtypes(include=['float64','datetime64[ns]'])\n",
    "    data_categorical = data_com.select_dtypes(include='object')\n",
    "    \n",
    "    return [data_numerical.head(), data_categorical.head()]\n",
    "    \n"
   ]
  },
  {
   "cell_type": "code",
   "execution_count": 68,
   "id": "ccbbd9e5",
   "metadata": {},
   "outputs": [
    {
     "data": {
      "text/plain": [
       "[   ORDER_TOTAL  DISCOUNT ORDER_DATE  CUSTOMER_ID  CONTACT_NUMBER\n",
       " 0         85.0       0.0 2016-05-18          1.0    9.693593e+09\n",
       " 1         85.0       0.0 2016-05-18         11.0    9.693593e+09\n",
       " 2         85.0       0.0 2016-05-18         18.0    9.693593e+09\n",
       " 3         85.0       0.0 2016-05-18         26.0    9.693593e+09\n",
       " 4         85.0       0.0 2016-05-18       6018.0    9.693593e+09,\n",
       "   ORDER_NUMBER CUSTOMER_KEY ORDER_STATUS DELIVERY_STATUS  \\\n",
       " 0      O100000      C100000    Delivered         ON-TIME   \n",
       " 1      O100000      C100000    Delivered         ON-TIME   \n",
       " 2      O100000      C100000    Delivered         ON-TIME   \n",
       " 3      O100000      C100000    Delivered         ON-TIME   \n",
       " 4      O100000      C100000    Delivered         ON-TIME   \n",
       " \n",
       "   Referred Other customers Gender Location Acquired Channel  \n",
       " 0                        N      M  Chennai              APP  \n",
       " 1                        N      F  Gurgaon          WEBSITE  \n",
       " 2                        N      F  Chennai          WEBSITE  \n",
       " 3                        N      M   Others          WEBSITE  \n",
       " 4                        N      M  Gurgaon          WEBSITE  ]"
      ]
     },
     "execution_count": 68,
     "metadata": {},
     "output_type": "execute_result"
    }
   ],
   "source": [
    "data_1 = pd.read_excel(r\"d:\\Users\\HP\\Desktop\\Siddhant Jain\\ALabs\\Internship Screening Case Study\\Internship Screening Case Study.xlsx\",\n",
    "                  sheet_name = \"Orders Data\",\n",
    "                  header= 0,\n",
    "                  parse_dates=['ORDER_DATE'])\n",
    "data_2 = pd.read_excel(r\"d:\\Users\\HP\\Desktop\\Siddhant Jain\\ALabs\\Internship Screening Case Study\\Internship Screening Case Study.xlsx\",\n",
    "                  sheet_name = \"Customer Data\",\n",
    "                  header= 0)\n",
    "\n",
    "\n",
    "\n",
    "categorical(data_1,data_2)"
   ]
  },
  {
   "cell_type": "markdown",
   "id": "b4ddba2f",
   "metadata": {},
   "source": [
    "### Q7. Write User Defined Function which can take input as any variable and output as follows. Test them on different columns"
   ]
  },
  {
   "cell_type": "markdown",
   "id": "8c3e3f12",
   "metadata": {},
   "source": [
    "### a. For categorical variables, the output will be number of distinct categories with frequency, number of missings, percentage of missings"
   ]
  },
  {
   "cell_type": "markdown",
   "id": "09725069",
   "metadata": {},
   "source": [
    "### b. For numerical variables, the output will be no.of missings, percentage of missings, minimum, maximum, sum, mean, median, variance, Coeficient of variation, 25th Percentile and 75th Percentile values"
   ]
  },
  {
   "cell_type": "code",
   "execution_count": 83,
   "id": "c41a8618",
   "metadata": {},
   "outputs": [],
   "source": [
    "def read(x):\n",
    "     if x in df.columns:\n",
    "            if isinstance(x, float):\n",
    "                return x.describe()\n",
    "            else:  return x.isnull().sum()  "
   ]
  },
  {
   "cell_type": "code",
   "execution_count": 84,
   "id": "1936677b",
   "metadata": {},
   "outputs": [
    {
     "data": {
      "text/plain": [
       "0         None\n",
       "1         None\n",
       "2         None\n",
       "3         None\n",
       "4         None\n",
       "          ... \n",
       "173661    None\n",
       "173662    None\n",
       "173663    None\n",
       "173664    None\n",
       "173665    None\n",
       "Name: ORDER_NUMBER, Length: 173666, dtype: object"
      ]
     },
     "execution_count": 84,
     "metadata": {},
     "output_type": "execute_result"
    }
   ],
   "source": [
    "df['ORDER_NUMBER'].apply(read)"
   ]
  },
  {
   "cell_type": "code",
   "execution_count": null,
   "id": "8a10ed39",
   "metadata": {},
   "outputs": [],
   "source": []
  }
 ],
 "metadata": {
  "kernelspec": {
   "display_name": "Python 3 (ipykernel)",
   "language": "python",
   "name": "python3"
  },
  "language_info": {
   "codemirror_mode": {
    "name": "ipython",
    "version": 3
   },
   "file_extension": ".py",
   "mimetype": "text/x-python",
   "name": "python",
   "nbconvert_exporter": "python",
   "pygments_lexer": "ipython3",
   "version": "3.9.13"
  }
 },
 "nbformat": 4,
 "nbformat_minor": 5
}
