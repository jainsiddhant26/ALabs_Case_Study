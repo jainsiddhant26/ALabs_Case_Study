{
 "cells": [
  {
   "cell_type": "code",
   "execution_count": 235,
   "id": "a65d1cad",
   "metadata": {},
   "outputs": [],
   "source": [
    "import pandas as pd\n",
    "import numpy as np\n",
    "import matplotlib.pyplot as plt"
   ]
  },
  {
   "cell_type": "code",
   "execution_count": 2,
   "id": "8bb05c39",
   "metadata": {},
   "outputs": [
    {
     "data": {
      "text/html": [
       "<div>\n",
       "<style scoped>\n",
       "    .dataframe tbody tr th:only-of-type {\n",
       "        vertical-align: middle;\n",
       "    }\n",
       "\n",
       "    .dataframe tbody tr th {\n",
       "        vertical-align: top;\n",
       "    }\n",
       "\n",
       "    .dataframe thead th {\n",
       "        text-align: right;\n",
       "    }\n",
       "</style>\n",
       "<table border=\"1\" class=\"dataframe\">\n",
       "  <thead>\n",
       "    <tr style=\"text-align: right;\">\n",
       "      <th></th>\n",
       "      <th>ORDER_NUMBER</th>\n",
       "      <th>CUSTOMER_KEY</th>\n",
       "      <th>ORDER_TOTAL</th>\n",
       "      <th>DISCOUNT</th>\n",
       "      <th>ORDER_DATE</th>\n",
       "      <th>ORDER_STATUS</th>\n",
       "      <th>DELIVERY_STATUS</th>\n",
       "    </tr>\n",
       "  </thead>\n",
       "  <tbody>\n",
       "    <tr>\n",
       "      <th>0</th>\n",
       "      <td>O100000</td>\n",
       "      <td>C100000</td>\n",
       "      <td>85.00</td>\n",
       "      <td>0.0</td>\n",
       "      <td>2016-05-18</td>\n",
       "      <td>Delivered</td>\n",
       "      <td>ON-TIME</td>\n",
       "    </tr>\n",
       "    <tr>\n",
       "      <th>1</th>\n",
       "      <td>O100001</td>\n",
       "      <td>C100001</td>\n",
       "      <td>307.52</td>\n",
       "      <td>0.0</td>\n",
       "      <td>2016-05-18</td>\n",
       "      <td>Delivered</td>\n",
       "      <td>ON-TIME</td>\n",
       "    </tr>\n",
       "    <tr>\n",
       "      <th>2</th>\n",
       "      <td>O100002</td>\n",
       "      <td>C100002</td>\n",
       "      <td>0.00</td>\n",
       "      <td>0.0</td>\n",
       "      <td>2016-05-18</td>\n",
       "      <td>Delivered</td>\n",
       "      <td>ON-TIME</td>\n",
       "    </tr>\n",
       "    <tr>\n",
       "      <th>3</th>\n",
       "      <td>O100003</td>\n",
       "      <td>C100003</td>\n",
       "      <td>153.73</td>\n",
       "      <td>0.0</td>\n",
       "      <td>2016-05-18</td>\n",
       "      <td>Delivered</td>\n",
       "      <td>ON-TIME</td>\n",
       "    </tr>\n",
       "    <tr>\n",
       "      <th>4</th>\n",
       "      <td>O100004</td>\n",
       "      <td>C100004</td>\n",
       "      <td>-39.55</td>\n",
       "      <td>0.0</td>\n",
       "      <td>2016-05-18</td>\n",
       "      <td>Delivered</td>\n",
       "      <td>ON-TIME</td>\n",
       "    </tr>\n",
       "  </tbody>\n",
       "</table>\n",
       "</div>"
      ],
      "text/plain": [
       "  ORDER_NUMBER CUSTOMER_KEY  ORDER_TOTAL  DISCOUNT ORDER_DATE ORDER_STATUS  \\\n",
       "0      O100000      C100000        85.00       0.0 2016-05-18    Delivered   \n",
       "1      O100001      C100001       307.52       0.0 2016-05-18    Delivered   \n",
       "2      O100002      C100002         0.00       0.0 2016-05-18    Delivered   \n",
       "3      O100003      C100003       153.73       0.0 2016-05-18    Delivered   \n",
       "4      O100004      C100004       -39.55       0.0 2016-05-18    Delivered   \n",
       "\n",
       "  DELIVERY_STATUS  \n",
       "0         ON-TIME  \n",
       "1         ON-TIME  \n",
       "2         ON-TIME  \n",
       "3         ON-TIME  \n",
       "4         ON-TIME  "
      ]
     },
     "execution_count": 2,
     "metadata": {},
     "output_type": "execute_result"
    }
   ],
   "source": [
    "orders = pd.read_excel(r\"d:\\Users\\HP\\Desktop\\Siddhant Jain\\ALabs\\Internship Screening Case Study\\Internship Screening Case Study.xlsx\",\n",
    "                  sheet_name = \"Orders Data\",\n",
    "                  header= 0,\n",
    "                  parse_dates=['ORDER_DATE'])\n",
    "orders.head()"
   ]
  },
  {
   "cell_type": "code",
   "execution_count": 3,
   "id": "b00033db",
   "metadata": {},
   "outputs": [
    {
     "name": "stdout",
     "output_type": "stream",
     "text": [
      "<class 'pandas.core.frame.DataFrame'>\n",
      "RangeIndex: 29616 entries, 0 to 29615\n",
      "Data columns (total 7 columns):\n",
      " #   Column           Non-Null Count  Dtype         \n",
      "---  ------           --------------  -----         \n",
      " 0   ORDER_NUMBER     29616 non-null  object        \n",
      " 1   CUSTOMER_KEY     29616 non-null  object        \n",
      " 2   ORDER_TOTAL      29465 non-null  float64       \n",
      " 3   DISCOUNT         29275 non-null  float64       \n",
      " 4   ORDER_DATE       29616 non-null  datetime64[ns]\n",
      " 5   ORDER_STATUS     29616 non-null  object        \n",
      " 6   DELIVERY_STATUS  29452 non-null  object        \n",
      "dtypes: datetime64[ns](1), float64(2), object(4)\n",
      "memory usage: 1.6+ MB\n"
     ]
    }
   ],
   "source": [
    "orders.info()"
   ]
  },
  {
   "cell_type": "code",
   "execution_count": 4,
   "id": "c0c8803f",
   "metadata": {},
   "outputs": [
    {
     "data": {
      "text/html": [
       "<div>\n",
       "<style scoped>\n",
       "    .dataframe tbody tr th:only-of-type {\n",
       "        vertical-align: middle;\n",
       "    }\n",
       "\n",
       "    .dataframe tbody tr th {\n",
       "        vertical-align: top;\n",
       "    }\n",
       "\n",
       "    .dataframe thead th {\n",
       "        text-align: right;\n",
       "    }\n",
       "</style>\n",
       "<table border=\"1\" class=\"dataframe\">\n",
       "  <thead>\n",
       "    <tr style=\"text-align: right;\">\n",
       "      <th></th>\n",
       "      <th>CUSTOMER_ID</th>\n",
       "      <th>CUSTOMER_KEY</th>\n",
       "      <th>CONTACT_NUMBER</th>\n",
       "      <th>Referred Other customers</th>\n",
       "      <th>Gender</th>\n",
       "      <th>Location</th>\n",
       "      <th>Acquired Channel</th>\n",
       "    </tr>\n",
       "  </thead>\n",
       "  <tbody>\n",
       "    <tr>\n",
       "      <th>0</th>\n",
       "      <td>1</td>\n",
       "      <td>C100000</td>\n",
       "      <td>9693593216</td>\n",
       "      <td>N</td>\n",
       "      <td>M</td>\n",
       "      <td>Chennai</td>\n",
       "      <td>APP</td>\n",
       "    </tr>\n",
       "    <tr>\n",
       "      <th>1</th>\n",
       "      <td>2</td>\n",
       "      <td>C100001</td>\n",
       "      <td>9770151476</td>\n",
       "      <td>Y</td>\n",
       "      <td>M</td>\n",
       "      <td>Bangalore</td>\n",
       "      <td>WEBSITE</td>\n",
       "    </tr>\n",
       "    <tr>\n",
       "      <th>2</th>\n",
       "      <td>3</td>\n",
       "      <td>C100002</td>\n",
       "      <td>9779085726</td>\n",
       "      <td>N</td>\n",
       "      <td>M</td>\n",
       "      <td>Gurgaon</td>\n",
       "      <td>WEBSITE</td>\n",
       "    </tr>\n",
       "    <tr>\n",
       "      <th>3</th>\n",
       "      <td>4</td>\n",
       "      <td>C100003</td>\n",
       "      <td>9298611643</td>\n",
       "      <td>N</td>\n",
       "      <td>M</td>\n",
       "      <td>Gurgaon</td>\n",
       "      <td>APP</td>\n",
       "    </tr>\n",
       "    <tr>\n",
       "      <th>4</th>\n",
       "      <td>5</td>\n",
       "      <td>C100004</td>\n",
       "      <td>9929250328</td>\n",
       "      <td>Y</td>\n",
       "      <td>M</td>\n",
       "      <td>Chennai</td>\n",
       "      <td>APP</td>\n",
       "    </tr>\n",
       "  </tbody>\n",
       "</table>\n",
       "</div>"
      ],
      "text/plain": [
       "   CUSTOMER_ID CUSTOMER_KEY  CONTACT_NUMBER Referred Other customers Gender  \\\n",
       "0            1      C100000      9693593216                        N      M   \n",
       "1            2      C100001      9770151476                        Y      M   \n",
       "2            3      C100002      9779085726                        N      M   \n",
       "3            4      C100003      9298611643                        N      M   \n",
       "4            5      C100004      9929250328                        Y      M   \n",
       "\n",
       "    Location Acquired Channel  \n",
       "0    Chennai              APP  \n",
       "1  Bangalore          WEBSITE  \n",
       "2    Gurgaon          WEBSITE  \n",
       "3    Gurgaon              APP  \n",
       "4    Chennai              APP  "
      ]
     },
     "execution_count": 4,
     "metadata": {},
     "output_type": "execute_result"
    }
   ],
   "source": [
    "customer = pd.read_excel(r\"d:\\Users\\HP\\Desktop\\Siddhant Jain\\ALabs\\Internship Screening Case Study\\Internship Screening Case Study.xlsx\",\n",
    "                  sheet_name = \"Customer Data\",\n",
    "                  header= 0)\n",
    "customer.head()"
   ]
  },
  {
   "cell_type": "code",
   "execution_count": 5,
   "id": "a17f30c5",
   "metadata": {},
   "outputs": [
    {
     "name": "stdout",
     "output_type": "stream",
     "text": [
      "<class 'pandas.core.frame.DataFrame'>\n",
      "RangeIndex: 29620 entries, 0 to 29619\n",
      "Data columns (total 7 columns):\n",
      " #   Column                    Non-Null Count  Dtype \n",
      "---  ------                    --------------  ----- \n",
      " 0   CUSTOMER_ID               29620 non-null  int64 \n",
      " 1   CUSTOMER_KEY              29620 non-null  object\n",
      " 2   CONTACT_NUMBER            29620 non-null  int64 \n",
      " 3   Referred Other customers  29620 non-null  object\n",
      " 4   Gender                    29620 non-null  object\n",
      " 5   Location                  29620 non-null  object\n",
      " 6   Acquired Channel          29620 non-null  object\n",
      "dtypes: int64(2), object(5)\n",
      "memory usage: 1.6+ MB\n"
     ]
    }
   ],
   "source": [
    "customer.info()"
   ]
  },
  {
   "cell_type": "code",
   "execution_count": 6,
   "id": "faa7b298",
   "metadata": {},
   "outputs": [
    {
     "data": {
      "text/html": [
       "<div>\n",
       "<style scoped>\n",
       "    .dataframe tbody tr th:only-of-type {\n",
       "        vertical-align: middle;\n",
       "    }\n",
       "\n",
       "    .dataframe tbody tr th {\n",
       "        vertical-align: top;\n",
       "    }\n",
       "\n",
       "    .dataframe thead th {\n",
       "        text-align: right;\n",
       "    }\n",
       "</style>\n",
       "<table border=\"1\" class=\"dataframe\">\n",
       "  <thead>\n",
       "    <tr style=\"text-align: right;\">\n",
       "      <th></th>\n",
       "      <th>ORDER_NUMBER</th>\n",
       "      <th>CUSTOMER_KEY</th>\n",
       "      <th>ORDER_TOTAL</th>\n",
       "      <th>DISCOUNT</th>\n",
       "      <th>ORDER_DATE</th>\n",
       "      <th>ORDER_STATUS</th>\n",
       "      <th>DELIVERY_STATUS</th>\n",
       "      <th>CUSTOMER_ID</th>\n",
       "      <th>CONTACT_NUMBER</th>\n",
       "      <th>Referred Other customers</th>\n",
       "      <th>Gender</th>\n",
       "      <th>Location</th>\n",
       "      <th>Acquired Channel</th>\n",
       "    </tr>\n",
       "  </thead>\n",
       "  <tbody>\n",
       "    <tr>\n",
       "      <th>0</th>\n",
       "      <td>O100000</td>\n",
       "      <td>C100000</td>\n",
       "      <td>85.0</td>\n",
       "      <td>0.0</td>\n",
       "      <td>2016-05-18</td>\n",
       "      <td>Delivered</td>\n",
       "      <td>ON-TIME</td>\n",
       "      <td>1.0</td>\n",
       "      <td>9.693593e+09</td>\n",
       "      <td>N</td>\n",
       "      <td>M</td>\n",
       "      <td>Chennai</td>\n",
       "      <td>APP</td>\n",
       "    </tr>\n",
       "    <tr>\n",
       "      <th>1</th>\n",
       "      <td>O100000</td>\n",
       "      <td>C100000</td>\n",
       "      <td>85.0</td>\n",
       "      <td>0.0</td>\n",
       "      <td>2016-05-18</td>\n",
       "      <td>Delivered</td>\n",
       "      <td>ON-TIME</td>\n",
       "      <td>11.0</td>\n",
       "      <td>9.693593e+09</td>\n",
       "      <td>N</td>\n",
       "      <td>F</td>\n",
       "      <td>Gurgaon</td>\n",
       "      <td>WEBSITE</td>\n",
       "    </tr>\n",
       "    <tr>\n",
       "      <th>2</th>\n",
       "      <td>O100000</td>\n",
       "      <td>C100000</td>\n",
       "      <td>85.0</td>\n",
       "      <td>0.0</td>\n",
       "      <td>2016-05-18</td>\n",
       "      <td>Delivered</td>\n",
       "      <td>ON-TIME</td>\n",
       "      <td>18.0</td>\n",
       "      <td>9.693593e+09</td>\n",
       "      <td>N</td>\n",
       "      <td>F</td>\n",
       "      <td>Chennai</td>\n",
       "      <td>WEBSITE</td>\n",
       "    </tr>\n",
       "    <tr>\n",
       "      <th>3</th>\n",
       "      <td>O100000</td>\n",
       "      <td>C100000</td>\n",
       "      <td>85.0</td>\n",
       "      <td>0.0</td>\n",
       "      <td>2016-05-18</td>\n",
       "      <td>Delivered</td>\n",
       "      <td>ON-TIME</td>\n",
       "      <td>26.0</td>\n",
       "      <td>9.693593e+09</td>\n",
       "      <td>N</td>\n",
       "      <td>M</td>\n",
       "      <td>Others</td>\n",
       "      <td>WEBSITE</td>\n",
       "    </tr>\n",
       "    <tr>\n",
       "      <th>4</th>\n",
       "      <td>O100000</td>\n",
       "      <td>C100000</td>\n",
       "      <td>85.0</td>\n",
       "      <td>0.0</td>\n",
       "      <td>2016-05-18</td>\n",
       "      <td>Delivered</td>\n",
       "      <td>ON-TIME</td>\n",
       "      <td>6018.0</td>\n",
       "      <td>9.693593e+09</td>\n",
       "      <td>N</td>\n",
       "      <td>M</td>\n",
       "      <td>Gurgaon</td>\n",
       "      <td>WEBSITE</td>\n",
       "    </tr>\n",
       "  </tbody>\n",
       "</table>\n",
       "</div>"
      ],
      "text/plain": [
       "  ORDER_NUMBER CUSTOMER_KEY  ORDER_TOTAL  DISCOUNT ORDER_DATE ORDER_STATUS  \\\n",
       "0      O100000      C100000         85.0       0.0 2016-05-18    Delivered   \n",
       "1      O100000      C100000         85.0       0.0 2016-05-18    Delivered   \n",
       "2      O100000      C100000         85.0       0.0 2016-05-18    Delivered   \n",
       "3      O100000      C100000         85.0       0.0 2016-05-18    Delivered   \n",
       "4      O100000      C100000         85.0       0.0 2016-05-18    Delivered   \n",
       "\n",
       "  DELIVERY_STATUS  CUSTOMER_ID  CONTACT_NUMBER Referred Other customers  \\\n",
       "0         ON-TIME          1.0    9.693593e+09                        N   \n",
       "1         ON-TIME         11.0    9.693593e+09                        N   \n",
       "2         ON-TIME         18.0    9.693593e+09                        N   \n",
       "3         ON-TIME         26.0    9.693593e+09                        N   \n",
       "4         ON-TIME       6018.0    9.693593e+09                        N   \n",
       "\n",
       "  Gender Location Acquired Channel  \n",
       "0      M  Chennai              APP  \n",
       "1      F  Gurgaon          WEBSITE  \n",
       "2      F  Chennai          WEBSITE  \n",
       "3      M   Others          WEBSITE  \n",
       "4      M  Gurgaon          WEBSITE  "
      ]
     },
     "execution_count": 6,
     "metadata": {},
     "output_type": "execute_result"
    }
   ],
   "source": [
    "## Combining the datasets on CUSTOMER_KEY\n",
    "\n",
    "df = orders.merge(customer, how = 'outer', on = 'CUSTOMER_KEY')\n",
    "df.head()"
   ]
  },
  {
   "cell_type": "code",
   "execution_count": null,
   "id": "0dab3031",
   "metadata": {},
   "outputs": [],
   "source": []
  },
  {
   "cell_type": "markdown",
   "id": "bfa58b4c",
   "metadata": {},
   "source": [
    "### Q1. Total Revenue (order value)"
   ]
  },
  {
   "cell_type": "code",
   "execution_count": 7,
   "id": "70225cdf",
   "metadata": {},
   "outputs": [
    {
     "data": {
      "text/plain": [
       "22382176.00961324"
      ]
     },
     "execution_count": 7,
     "metadata": {},
     "output_type": "execute_result"
    }
   ],
   "source": [
    "orders['ORDER_TOTAL'].sum()"
   ]
  },
  {
   "cell_type": "markdown",
   "id": "5cec400a",
   "metadata": {},
   "source": [
    "### Q2. Total Revenue (order value) by top 25 Customers"
   ]
  },
  {
   "cell_type": "code",
   "execution_count": 8,
   "id": "fcd0e943",
   "metadata": {},
   "outputs": [
    {
     "data": {
      "text/plain": [
       "19890671.340664975"
      ]
     },
     "execution_count": 8,
     "metadata": {},
     "output_type": "execute_result"
    }
   ],
   "source": [
    "sum_of_top_25 = df.groupby(['CUSTOMER_KEY'])[['ORDER_TOTAL']].sum()\n",
    "\n",
    "top_25 = sum_of_top_25.sort_values(by='ORDER_TOTAL',ascending=False).head(25)\n",
    "\n",
    "top_25['ORDER_TOTAL'].sum()"
   ]
  },
  {
   "cell_type": "markdown",
   "id": "0a107011",
   "metadata": {},
   "source": [
    "### Q3. Total number of orders"
   ]
  },
  {
   "cell_type": "code",
   "execution_count": 9,
   "id": "2b0b9c52",
   "metadata": {},
   "outputs": [
    {
     "data": {
      "text/plain": [
       "173657"
      ]
     },
     "execution_count": 9,
     "metadata": {},
     "output_type": "execute_result"
    }
   ],
   "source": [
    "df['ORDER_NUMBER'].count()"
   ]
  },
  {
   "cell_type": "markdown",
   "id": "9777c605",
   "metadata": {},
   "source": [
    "### Q4. Total orders by top 10 customers"
   ]
  },
  {
   "cell_type": "code",
   "execution_count": 10,
   "id": "aaef2191",
   "metadata": {},
   "outputs": [],
   "source": [
    "top_10_customers = df.groupby(['CUSTOMER_KEY'])[['ORDER_NUMBER']].count()\n",
    "\n",
    "top_10 = top_10_customers.sort_values(by='ORDER_NUMBER',ascending=False).head(10)"
   ]
  },
  {
   "cell_type": "code",
   "execution_count": 11,
   "id": "88799140",
   "metadata": {},
   "outputs": [
    {
     "data": {
      "text/plain": [
       "12945"
      ]
     },
     "execution_count": 11,
     "metadata": {},
     "output_type": "execute_result"
    }
   ],
   "source": [
    "top_10['ORDER_NUMBER'].sum()"
   ]
  },
  {
   "cell_type": "markdown",
   "id": "f0ea1fd9",
   "metadata": {},
   "source": [
    "### Q5. Number of customers (Distinct)"
   ]
  },
  {
   "cell_type": "code",
   "execution_count": 12,
   "id": "1a6139af",
   "metadata": {},
   "outputs": [
    {
     "data": {
      "text/plain": [
       "CUSTOMER_KEY    11137\n",
       "dtype: int64"
      ]
     },
     "execution_count": 12,
     "metadata": {},
     "output_type": "execute_result"
    }
   ],
   "source": [
    "df[['CUSTOMER_KEY']].nunique()"
   ]
  },
  {
   "cell_type": "markdown",
   "id": "9e3d27a5",
   "metadata": {},
   "source": [
    "### Q6. Number of customers ordered once"
   ]
  },
  {
   "cell_type": "code",
   "execution_count": 13,
   "id": "1aac39d7",
   "metadata": {},
   "outputs": [
    {
     "data": {
      "text/plain": [
       "ORDER_NUMBER    5489\n",
       "dtype: int64"
      ]
     },
     "execution_count": 13,
     "metadata": {},
     "output_type": "execute_result"
    }
   ],
   "source": [
    "customers_ordered_once = df.groupby(['CUSTOMER_KEY'])[['ORDER_NUMBER']].count()\n",
    "\n",
    "ordered_once = customers_ordered_once.sort_values(by='ORDER_NUMBER',ascending=True)\n",
    "\n",
    "ordered_once[ordered_once['ORDER_NUMBER'] == 1].count()"
   ]
  },
  {
   "cell_type": "markdown",
   "id": "0cb39f54",
   "metadata": {},
   "source": [
    "### Q7. Number of customers ordered multiple times"
   ]
  },
  {
   "cell_type": "code",
   "execution_count": 14,
   "id": "b453a207",
   "metadata": {},
   "outputs": [
    {
     "data": {
      "text/plain": [
       "ORDER_NUMBER    5647\n",
       "dtype: int64"
      ]
     },
     "execution_count": 14,
     "metadata": {},
     "output_type": "execute_result"
    }
   ],
   "source": [
    "customers_ordered_multiple_times = df.groupby(['CUSTOMER_KEY'])[['ORDER_NUMBER']].count()\n",
    "\n",
    "ordered_multiple_times = customers_ordered_multiple_times.sort_values(by='ORDER_NUMBER',ascending=False)\n",
    "\n",
    "ordered_multiple_times[ordered_multiple_times['ORDER_NUMBER'] > 1].count()"
   ]
  },
  {
   "cell_type": "markdown",
   "id": "22981df0",
   "metadata": {},
   "source": [
    "### Q8. Number of customers reffered to other customers"
   ]
  },
  {
   "cell_type": "code",
   "execution_count": 15,
   "id": "ef6aaa8c",
   "metadata": {},
   "outputs": [
    {
     "data": {
      "text/html": [
       "<div>\n",
       "<style scoped>\n",
       "    .dataframe tbody tr th:only-of-type {\n",
       "        vertical-align: middle;\n",
       "    }\n",
       "\n",
       "    .dataframe tbody tr th {\n",
       "        vertical-align: top;\n",
       "    }\n",
       "\n",
       "    .dataframe thead th {\n",
       "        text-align: right;\n",
       "    }\n",
       "</style>\n",
       "<table border=\"1\" class=\"dataframe\">\n",
       "  <thead>\n",
       "    <tr style=\"text-align: right;\">\n",
       "      <th></th>\n",
       "      <th>ORDER_NUMBER</th>\n",
       "      <th>CUSTOMER_KEY</th>\n",
       "      <th>ORDER_TOTAL</th>\n",
       "      <th>DISCOUNT</th>\n",
       "      <th>ORDER_DATE</th>\n",
       "      <th>ORDER_STATUS</th>\n",
       "      <th>DELIVERY_STATUS</th>\n",
       "      <th>CUSTOMER_ID</th>\n",
       "      <th>CONTACT_NUMBER</th>\n",
       "      <th>Referred Other customers</th>\n",
       "      <th>Gender</th>\n",
       "      <th>Location</th>\n",
       "      <th>Acquired Channel</th>\n",
       "    </tr>\n",
       "  </thead>\n",
       "  <tbody>\n",
       "    <tr>\n",
       "      <th>25</th>\n",
       "      <td>O100001</td>\n",
       "      <td>C100001</td>\n",
       "      <td>307.52</td>\n",
       "      <td>0.0</td>\n",
       "      <td>2016-05-18</td>\n",
       "      <td>Delivered</td>\n",
       "      <td>ON-TIME</td>\n",
       "      <td>2.0</td>\n",
       "      <td>9.770151e+09</td>\n",
       "      <td>Y</td>\n",
       "      <td>M</td>\n",
       "      <td>Bangalore</td>\n",
       "      <td>WEBSITE</td>\n",
       "    </tr>\n",
       "    <tr>\n",
       "      <th>43</th>\n",
       "      <td>O100004</td>\n",
       "      <td>C100004</td>\n",
       "      <td>-39.55</td>\n",
       "      <td>0.0</td>\n",
       "      <td>2016-05-18</td>\n",
       "      <td>Delivered</td>\n",
       "      <td>ON-TIME</td>\n",
       "      <td>5.0</td>\n",
       "      <td>9.929250e+09</td>\n",
       "      <td>Y</td>\n",
       "      <td>M</td>\n",
       "      <td>Chennai</td>\n",
       "      <td>APP</td>\n",
       "    </tr>\n",
       "    <tr>\n",
       "      <th>917</th>\n",
       "      <td>O100011</td>\n",
       "      <td>C100008</td>\n",
       "      <td>329.79</td>\n",
       "      <td>0.0</td>\n",
       "      <td>2016-05-19</td>\n",
       "      <td>Delivered</td>\n",
       "      <td>ON-TIME</td>\n",
       "      <td>12.0</td>\n",
       "      <td>9.938779e+10</td>\n",
       "      <td>Y</td>\n",
       "      <td>F</td>\n",
       "      <td>Bangalore</td>\n",
       "      <td>WEBSITE</td>\n",
       "    </tr>\n",
       "    <tr>\n",
       "      <th>1064</th>\n",
       "      <td>O100036</td>\n",
       "      <td>C100025</td>\n",
       "      <td>654.68</td>\n",
       "      <td>0.0</td>\n",
       "      <td>2016-05-20</td>\n",
       "      <td>Delivered</td>\n",
       "      <td>ON-TIME</td>\n",
       "      <td>37.0</td>\n",
       "      <td>9.738608e+09</td>\n",
       "      <td>Y</td>\n",
       "      <td>M</td>\n",
       "      <td>Chennai</td>\n",
       "      <td>WEBSITE</td>\n",
       "    </tr>\n",
       "    <tr>\n",
       "      <th>1065</th>\n",
       "      <td>O100036</td>\n",
       "      <td>C100025</td>\n",
       "      <td>654.68</td>\n",
       "      <td>0.0</td>\n",
       "      <td>2016-05-20</td>\n",
       "      <td>Delivered</td>\n",
       "      <td>ON-TIME</td>\n",
       "      <td>87.0</td>\n",
       "      <td>9.738608e+09</td>\n",
       "      <td>Y</td>\n",
       "      <td>M</td>\n",
       "      <td>Gurgaon</td>\n",
       "      <td>APP</td>\n",
       "    </tr>\n",
       "    <tr>\n",
       "      <th>...</th>\n",
       "      <td>...</td>\n",
       "      <td>...</td>\n",
       "      <td>...</td>\n",
       "      <td>...</td>\n",
       "      <td>...</td>\n",
       "      <td>...</td>\n",
       "      <td>...</td>\n",
       "      <td>...</td>\n",
       "      <td>...</td>\n",
       "      <td>...</td>\n",
       "      <td>...</td>\n",
       "      <td>...</td>\n",
       "      <td>...</td>\n",
       "    </tr>\n",
       "    <tr>\n",
       "      <th>160564</th>\n",
       "      <td>O128143</td>\n",
       "      <td>C15021</td>\n",
       "      <td>19890.14</td>\n",
       "      <td>0.0</td>\n",
       "      <td>2016-07-13</td>\n",
       "      <td>Delivered</td>\n",
       "      <td>ON-TIME</td>\n",
       "      <td>17918.0</td>\n",
       "      <td>9.710501e+09</td>\n",
       "      <td>Y</td>\n",
       "      <td>F</td>\n",
       "      <td>Gurgaon</td>\n",
       "      <td>WEBSITE</td>\n",
       "    </tr>\n",
       "    <tr>\n",
       "      <th>160565</th>\n",
       "      <td>O128143</td>\n",
       "      <td>C15021</td>\n",
       "      <td>19890.14</td>\n",
       "      <td>0.0</td>\n",
       "      <td>2016-07-13</td>\n",
       "      <td>Delivered</td>\n",
       "      <td>ON-TIME</td>\n",
       "      <td>18094.0</td>\n",
       "      <td>9.710501e+09</td>\n",
       "      <td>Y</td>\n",
       "      <td>M</td>\n",
       "      <td>Gurgaon</td>\n",
       "      <td>WEBSITE</td>\n",
       "    </tr>\n",
       "    <tr>\n",
       "      <th>160566</th>\n",
       "      <td>O128143</td>\n",
       "      <td>C15021</td>\n",
       "      <td>19890.14</td>\n",
       "      <td>0.0</td>\n",
       "      <td>2016-07-13</td>\n",
       "      <td>Delivered</td>\n",
       "      <td>ON-TIME</td>\n",
       "      <td>19451.0</td>\n",
       "      <td>9.710501e+09</td>\n",
       "      <td>Y</td>\n",
       "      <td>F</td>\n",
       "      <td>Gurgaon</td>\n",
       "      <td>WEBSITE</td>\n",
       "    </tr>\n",
       "    <tr>\n",
       "      <th>160567</th>\n",
       "      <td>O128143</td>\n",
       "      <td>C15021</td>\n",
       "      <td>19890.14</td>\n",
       "      <td>0.0</td>\n",
       "      <td>2016-07-13</td>\n",
       "      <td>Delivered</td>\n",
       "      <td>ON-TIME</td>\n",
       "      <td>28141.0</td>\n",
       "      <td>9.710501e+09</td>\n",
       "      <td>Y</td>\n",
       "      <td>F</td>\n",
       "      <td>Gurgaon</td>\n",
       "      <td>WEBSITE</td>\n",
       "    </tr>\n",
       "    <tr>\n",
       "      <th>160568</th>\n",
       "      <td>O128143</td>\n",
       "      <td>C15021</td>\n",
       "      <td>19890.14</td>\n",
       "      <td>0.0</td>\n",
       "      <td>2016-07-13</td>\n",
       "      <td>Delivered</td>\n",
       "      <td>ON-TIME</td>\n",
       "      <td>28144.0</td>\n",
       "      <td>9.710501e+09</td>\n",
       "      <td>Y</td>\n",
       "      <td>M</td>\n",
       "      <td>Chennai</td>\n",
       "      <td>WEBSITE</td>\n",
       "    </tr>\n",
       "  </tbody>\n",
       "</table>\n",
       "<p>866 rows × 13 columns</p>\n",
       "</div>"
      ],
      "text/plain": [
       "       ORDER_NUMBER CUSTOMER_KEY  ORDER_TOTAL  DISCOUNT ORDER_DATE  \\\n",
       "25          O100001      C100001       307.52       0.0 2016-05-18   \n",
       "43          O100004      C100004       -39.55       0.0 2016-05-18   \n",
       "917         O100011      C100008       329.79       0.0 2016-05-19   \n",
       "1064        O100036      C100025       654.68       0.0 2016-05-20   \n",
       "1065        O100036      C100025       654.68       0.0 2016-05-20   \n",
       "...             ...          ...          ...       ...        ...   \n",
       "160564      O128143       C15021     19890.14       0.0 2016-07-13   \n",
       "160565      O128143       C15021     19890.14       0.0 2016-07-13   \n",
       "160566      O128143       C15021     19890.14       0.0 2016-07-13   \n",
       "160567      O128143       C15021     19890.14       0.0 2016-07-13   \n",
       "160568      O128143       C15021     19890.14       0.0 2016-07-13   \n",
       "\n",
       "       ORDER_STATUS DELIVERY_STATUS  CUSTOMER_ID  CONTACT_NUMBER  \\\n",
       "25        Delivered         ON-TIME          2.0    9.770151e+09   \n",
       "43        Delivered         ON-TIME          5.0    9.929250e+09   \n",
       "917       Delivered         ON-TIME         12.0    9.938779e+10   \n",
       "1064      Delivered         ON-TIME         37.0    9.738608e+09   \n",
       "1065      Delivered         ON-TIME         87.0    9.738608e+09   \n",
       "...             ...             ...          ...             ...   \n",
       "160564    Delivered         ON-TIME      17918.0    9.710501e+09   \n",
       "160565    Delivered         ON-TIME      18094.0    9.710501e+09   \n",
       "160566    Delivered         ON-TIME      19451.0    9.710501e+09   \n",
       "160567    Delivered         ON-TIME      28141.0    9.710501e+09   \n",
       "160568    Delivered         ON-TIME      28144.0    9.710501e+09   \n",
       "\n",
       "       Referred Other customers Gender   Location Acquired Channel  \n",
       "25                            Y      M  Bangalore          WEBSITE  \n",
       "43                            Y      M    Chennai              APP  \n",
       "917                           Y      F  Bangalore          WEBSITE  \n",
       "1064                          Y      M    Chennai          WEBSITE  \n",
       "1065                          Y      M    Gurgaon              APP  \n",
       "...                         ...    ...        ...              ...  \n",
       "160564                        Y      F    Gurgaon          WEBSITE  \n",
       "160565                        Y      M    Gurgaon          WEBSITE  \n",
       "160566                        Y      F    Gurgaon          WEBSITE  \n",
       "160567                        Y      F    Gurgaon          WEBSITE  \n",
       "160568                        Y      M    Chennai          WEBSITE  \n",
       "\n",
       "[866 rows x 13 columns]"
      ]
     },
     "execution_count": 15,
     "metadata": {},
     "output_type": "execute_result"
    }
   ],
   "source": [
    "customers_reffered_to_other_customers = df[df['Referred Other customers'] == 'Y']\n",
    "customers_reffered_to_other_customers"
   ]
  },
  {
   "cell_type": "code",
   "execution_count": 16,
   "id": "4f0d0ba2",
   "metadata": {},
   "outputs": [
    {
     "data": {
      "text/plain": [
       "Referred Other customers    17\n",
       "dtype: int64"
      ]
     },
     "execution_count": 16,
     "metadata": {},
     "output_type": "execute_result"
    }
   ],
   "source": [
    "customers_referring = customers_reffered_to_other_customers.groupby(['CUSTOMER_KEY'])[['Referred Other customers']].count()\n",
    "customers_referring.count()"
   ]
  },
  {
   "cell_type": "markdown",
   "id": "72c0d9d0",
   "metadata": {},
   "source": [
    "### Q9. Which Month have maximum Revenue?"
   ]
  },
  {
   "cell_type": "code",
   "execution_count": 17,
   "id": "e1832f7f",
   "metadata": {},
   "outputs": [
    {
     "data": {
      "text/html": [
       "<div>\n",
       "<style scoped>\n",
       "    .dataframe tbody tr th:only-of-type {\n",
       "        vertical-align: middle;\n",
       "    }\n",
       "\n",
       "    .dataframe tbody tr th {\n",
       "        vertical-align: top;\n",
       "    }\n",
       "\n",
       "    .dataframe thead th {\n",
       "        text-align: right;\n",
       "    }\n",
       "</style>\n",
       "<table border=\"1\" class=\"dataframe\">\n",
       "  <thead>\n",
       "    <tr style=\"text-align: right;\">\n",
       "      <th></th>\n",
       "      <th>ORDER_NUMBER</th>\n",
       "      <th>CUSTOMER_KEY</th>\n",
       "      <th>ORDER_TOTAL</th>\n",
       "      <th>DISCOUNT</th>\n",
       "      <th>ORDER_DATE</th>\n",
       "      <th>ORDER_STATUS</th>\n",
       "      <th>DELIVERY_STATUS</th>\n",
       "      <th>CUSTOMER_ID</th>\n",
       "      <th>CONTACT_NUMBER</th>\n",
       "      <th>Referred Other customers</th>\n",
       "      <th>Gender</th>\n",
       "      <th>Location</th>\n",
       "      <th>Acquired Channel</th>\n",
       "      <th>month</th>\n",
       "    </tr>\n",
       "  </thead>\n",
       "  <tbody>\n",
       "    <tr>\n",
       "      <th>0</th>\n",
       "      <td>O100000</td>\n",
       "      <td>C100000</td>\n",
       "      <td>85.0</td>\n",
       "      <td>0.0</td>\n",
       "      <td>2016-05-18</td>\n",
       "      <td>Delivered</td>\n",
       "      <td>ON-TIME</td>\n",
       "      <td>1.0</td>\n",
       "      <td>9.693593e+09</td>\n",
       "      <td>N</td>\n",
       "      <td>M</td>\n",
       "      <td>Chennai</td>\n",
       "      <td>APP</td>\n",
       "      <td>5.0</td>\n",
       "    </tr>\n",
       "    <tr>\n",
       "      <th>1</th>\n",
       "      <td>O100000</td>\n",
       "      <td>C100000</td>\n",
       "      <td>85.0</td>\n",
       "      <td>0.0</td>\n",
       "      <td>2016-05-18</td>\n",
       "      <td>Delivered</td>\n",
       "      <td>ON-TIME</td>\n",
       "      <td>11.0</td>\n",
       "      <td>9.693593e+09</td>\n",
       "      <td>N</td>\n",
       "      <td>F</td>\n",
       "      <td>Gurgaon</td>\n",
       "      <td>WEBSITE</td>\n",
       "      <td>5.0</td>\n",
       "    </tr>\n",
       "    <tr>\n",
       "      <th>2</th>\n",
       "      <td>O100000</td>\n",
       "      <td>C100000</td>\n",
       "      <td>85.0</td>\n",
       "      <td>0.0</td>\n",
       "      <td>2016-05-18</td>\n",
       "      <td>Delivered</td>\n",
       "      <td>ON-TIME</td>\n",
       "      <td>18.0</td>\n",
       "      <td>9.693593e+09</td>\n",
       "      <td>N</td>\n",
       "      <td>F</td>\n",
       "      <td>Chennai</td>\n",
       "      <td>WEBSITE</td>\n",
       "      <td>5.0</td>\n",
       "    </tr>\n",
       "    <tr>\n",
       "      <th>3</th>\n",
       "      <td>O100000</td>\n",
       "      <td>C100000</td>\n",
       "      <td>85.0</td>\n",
       "      <td>0.0</td>\n",
       "      <td>2016-05-18</td>\n",
       "      <td>Delivered</td>\n",
       "      <td>ON-TIME</td>\n",
       "      <td>26.0</td>\n",
       "      <td>9.693593e+09</td>\n",
       "      <td>N</td>\n",
       "      <td>M</td>\n",
       "      <td>Others</td>\n",
       "      <td>WEBSITE</td>\n",
       "      <td>5.0</td>\n",
       "    </tr>\n",
       "    <tr>\n",
       "      <th>4</th>\n",
       "      <td>O100000</td>\n",
       "      <td>C100000</td>\n",
       "      <td>85.0</td>\n",
       "      <td>0.0</td>\n",
       "      <td>2016-05-18</td>\n",
       "      <td>Delivered</td>\n",
       "      <td>ON-TIME</td>\n",
       "      <td>6018.0</td>\n",
       "      <td>9.693593e+09</td>\n",
       "      <td>N</td>\n",
       "      <td>M</td>\n",
       "      <td>Gurgaon</td>\n",
       "      <td>WEBSITE</td>\n",
       "      <td>5.0</td>\n",
       "    </tr>\n",
       "  </tbody>\n",
       "</table>\n",
       "</div>"
      ],
      "text/plain": [
       "  ORDER_NUMBER CUSTOMER_KEY  ORDER_TOTAL  DISCOUNT ORDER_DATE ORDER_STATUS  \\\n",
       "0      O100000      C100000         85.0       0.0 2016-05-18    Delivered   \n",
       "1      O100000      C100000         85.0       0.0 2016-05-18    Delivered   \n",
       "2      O100000      C100000         85.0       0.0 2016-05-18    Delivered   \n",
       "3      O100000      C100000         85.0       0.0 2016-05-18    Delivered   \n",
       "4      O100000      C100000         85.0       0.0 2016-05-18    Delivered   \n",
       "\n",
       "  DELIVERY_STATUS  CUSTOMER_ID  CONTACT_NUMBER Referred Other customers  \\\n",
       "0         ON-TIME          1.0    9.693593e+09                        N   \n",
       "1         ON-TIME         11.0    9.693593e+09                        N   \n",
       "2         ON-TIME         18.0    9.693593e+09                        N   \n",
       "3         ON-TIME         26.0    9.693593e+09                        N   \n",
       "4         ON-TIME       6018.0    9.693593e+09                        N   \n",
       "\n",
       "  Gender Location Acquired Channel  month  \n",
       "0      M  Chennai              APP    5.0  \n",
       "1      F  Gurgaon          WEBSITE    5.0  \n",
       "2      F  Chennai          WEBSITE    5.0  \n",
       "3      M   Others          WEBSITE    5.0  \n",
       "4      M  Gurgaon          WEBSITE    5.0  "
      ]
     },
     "execution_count": 17,
     "metadata": {},
     "output_type": "execute_result"
    }
   ],
   "source": [
    "df['month'] = df['ORDER_DATE'].dt.month\n",
    "df.head()"
   ]
  },
  {
   "cell_type": "code",
   "execution_count": 18,
   "id": "7456d310",
   "metadata": {
    "scrolled": true
   },
   "outputs": [
    {
     "data": {
      "text/html": [
       "<div>\n",
       "<style scoped>\n",
       "    .dataframe tbody tr th:only-of-type {\n",
       "        vertical-align: middle;\n",
       "    }\n",
       "\n",
       "    .dataframe tbody tr th {\n",
       "        vertical-align: top;\n",
       "    }\n",
       "\n",
       "    .dataframe thead th {\n",
       "        text-align: right;\n",
       "    }\n",
       "</style>\n",
       "<table border=\"1\" class=\"dataframe\">\n",
       "  <thead>\n",
       "    <tr style=\"text-align: right;\">\n",
       "      <th></th>\n",
       "      <th>ORDER_TOTAL</th>\n",
       "    </tr>\n",
       "    <tr>\n",
       "      <th>month</th>\n",
       "      <th></th>\n",
       "    </tr>\n",
       "  </thead>\n",
       "  <tbody>\n",
       "    <tr>\n",
       "      <th>6.0</th>\n",
       "      <td>28335743.68</td>\n",
       "    </tr>\n",
       "  </tbody>\n",
       "</table>\n",
       "</div>"
      ],
      "text/plain": [
       "       ORDER_TOTAL\n",
       "month             \n",
       "6.0    28335743.68"
      ]
     },
     "execution_count": 18,
     "metadata": {},
     "output_type": "execute_result"
    }
   ],
   "source": [
    "Month_have_maximum_Revenue = df.groupby(['month'])[['ORDER_TOTAL']].sum()\n",
    "\n",
    "Month_have_maximum_Revenue.nlargest(1,columns='ORDER_TOTAL',keep='all')"
   ]
  },
  {
   "cell_type": "markdown",
   "id": "5ef7b365",
   "metadata": {},
   "source": [
    "### Q10. Number of customers are inactive (that haven't ordered in the last 60 days)"
   ]
  },
  {
   "cell_type": "code",
   "execution_count": 19,
   "id": "f53be905",
   "metadata": {},
   "outputs": [
    {
     "data": {
      "text/plain": [
       "ORDER_DATE   2016-07-30\n",
       "dtype: datetime64[ns]"
      ]
     },
     "execution_count": 19,
     "metadata": {},
     "output_type": "execute_result"
    }
   ],
   "source": [
    "maximum = df[['ORDER_DATE']].agg(np.max)\n",
    "maximum"
   ]
  },
  {
   "cell_type": "code",
   "execution_count": 20,
   "id": "8f66d6c3",
   "metadata": {},
   "outputs": [
    {
     "data": {
      "text/html": [
       "<div>\n",
       "<style scoped>\n",
       "    .dataframe tbody tr th:only-of-type {\n",
       "        vertical-align: middle;\n",
       "    }\n",
       "\n",
       "    .dataframe tbody tr th {\n",
       "        vertical-align: top;\n",
       "    }\n",
       "\n",
       "    .dataframe thead th {\n",
       "        text-align: right;\n",
       "    }\n",
       "</style>\n",
       "<table border=\"1\" class=\"dataframe\">\n",
       "  <thead>\n",
       "    <tr style=\"text-align: right;\">\n",
       "      <th></th>\n",
       "      <th>ORDER_DATE</th>\n",
       "    </tr>\n",
       "    <tr>\n",
       "      <th>CUSTOMER_KEY</th>\n",
       "      <th></th>\n",
       "    </tr>\n",
       "  </thead>\n",
       "  <tbody>\n",
       "    <tr>\n",
       "      <th>C100000</th>\n",
       "      <td>2016-07-15</td>\n",
       "    </tr>\n",
       "    <tr>\n",
       "      <th>C100001</th>\n",
       "      <td>2016-05-18</td>\n",
       "    </tr>\n",
       "    <tr>\n",
       "      <th>C100002</th>\n",
       "      <td>2016-05-25</td>\n",
       "    </tr>\n",
       "    <tr>\n",
       "      <th>C100003</th>\n",
       "      <td>2016-05-18</td>\n",
       "    </tr>\n",
       "    <tr>\n",
       "      <th>C100004</th>\n",
       "      <td>2016-05-18</td>\n",
       "    </tr>\n",
       "    <tr>\n",
       "      <th>...</th>\n",
       "      <td>...</td>\n",
       "    </tr>\n",
       "    <tr>\n",
       "      <th>C19486</th>\n",
       "      <td>2016-07-18</td>\n",
       "    </tr>\n",
       "    <tr>\n",
       "      <th>C19487</th>\n",
       "      <td>2016-07-18</td>\n",
       "    </tr>\n",
       "    <tr>\n",
       "      <th>C19488</th>\n",
       "      <td>2016-07-18</td>\n",
       "    </tr>\n",
       "    <tr>\n",
       "      <th>C19489</th>\n",
       "      <td>2016-07-19</td>\n",
       "    </tr>\n",
       "    <tr>\n",
       "      <th>C19490</th>\n",
       "      <td>2016-07-19</td>\n",
       "    </tr>\n",
       "  </tbody>\n",
       "</table>\n",
       "<p>11137 rows × 1 columns</p>\n",
       "</div>"
      ],
      "text/plain": [
       "             ORDER_DATE\n",
       "CUSTOMER_KEY           \n",
       "C100000      2016-07-15\n",
       "C100001      2016-05-18\n",
       "C100002      2016-05-25\n",
       "C100003      2016-05-18\n",
       "C100004      2016-05-18\n",
       "...                 ...\n",
       "C19486       2016-07-18\n",
       "C19487       2016-07-18\n",
       "C19488       2016-07-18\n",
       "C19489       2016-07-19\n",
       "C19490       2016-07-19\n",
       "\n",
       "[11137 rows x 1 columns]"
      ]
     },
     "execution_count": 20,
     "metadata": {},
     "output_type": "execute_result"
    }
   ],
   "source": [
    "max_date_customer = df.groupby(['CUSTOMER_KEY'])[['ORDER_DATE']].agg(np.max)\n",
    "max_date_customer"
   ]
  },
  {
   "cell_type": "code",
   "execution_count": 21,
   "id": "28e8c260",
   "metadata": {},
   "outputs": [
    {
     "data": {
      "text/html": [
       "<div>\n",
       "<style scoped>\n",
       "    .dataframe tbody tr th:only-of-type {\n",
       "        vertical-align: middle;\n",
       "    }\n",
       "\n",
       "    .dataframe tbody tr th {\n",
       "        vertical-align: top;\n",
       "    }\n",
       "\n",
       "    .dataframe thead th {\n",
       "        text-align: right;\n",
       "    }\n",
       "</style>\n",
       "<table border=\"1\" class=\"dataframe\">\n",
       "  <thead>\n",
       "    <tr style=\"text-align: right;\">\n",
       "      <th></th>\n",
       "      <th>ORDER_DATE</th>\n",
       "    </tr>\n",
       "    <tr>\n",
       "      <th>CUSTOMER_KEY</th>\n",
       "      <th></th>\n",
       "    </tr>\n",
       "  </thead>\n",
       "  <tbody>\n",
       "    <tr>\n",
       "      <th>C100000</th>\n",
       "      <td>15 days</td>\n",
       "    </tr>\n",
       "    <tr>\n",
       "      <th>C100001</th>\n",
       "      <td>73 days</td>\n",
       "    </tr>\n",
       "    <tr>\n",
       "      <th>C100002</th>\n",
       "      <td>66 days</td>\n",
       "    </tr>\n",
       "    <tr>\n",
       "      <th>C100003</th>\n",
       "      <td>73 days</td>\n",
       "    </tr>\n",
       "    <tr>\n",
       "      <th>C100004</th>\n",
       "      <td>73 days</td>\n",
       "    </tr>\n",
       "    <tr>\n",
       "      <th>...</th>\n",
       "      <td>...</td>\n",
       "    </tr>\n",
       "    <tr>\n",
       "      <th>C19486</th>\n",
       "      <td>12 days</td>\n",
       "    </tr>\n",
       "    <tr>\n",
       "      <th>C19487</th>\n",
       "      <td>12 days</td>\n",
       "    </tr>\n",
       "    <tr>\n",
       "      <th>C19488</th>\n",
       "      <td>12 days</td>\n",
       "    </tr>\n",
       "    <tr>\n",
       "      <th>C19489</th>\n",
       "      <td>11 days</td>\n",
       "    </tr>\n",
       "    <tr>\n",
       "      <th>C19490</th>\n",
       "      <td>11 days</td>\n",
       "    </tr>\n",
       "  </tbody>\n",
       "</table>\n",
       "<p>11137 rows × 1 columns</p>\n",
       "</div>"
      ],
      "text/plain": [
       "             ORDER_DATE\n",
       "CUSTOMER_KEY           \n",
       "C100000         15 days\n",
       "C100001         73 days\n",
       "C100002         66 days\n",
       "C100003         73 days\n",
       "C100004         73 days\n",
       "...                 ...\n",
       "C19486          12 days\n",
       "C19487          12 days\n",
       "C19488          12 days\n",
       "C19489          11 days\n",
       "C19490          11 days\n",
       "\n",
       "[11137 rows x 1 columns]"
      ]
     },
     "execution_count": 21,
     "metadata": {},
     "output_type": "execute_result"
    }
   ],
   "source": [
    "inactive = maximum - max_date_customer\n",
    "inactive"
   ]
  },
  {
   "cell_type": "code",
   "execution_count": 22,
   "id": "10ddab35",
   "metadata": {},
   "outputs": [
    {
     "data": {
      "text/plain": [
       "ORDER_DATE    3639\n",
       "dtype: int64"
      ]
     },
     "execution_count": 22,
     "metadata": {},
     "output_type": "execute_result"
    }
   ],
   "source": [
    "inactive[inactive['ORDER_DATE'] > '60 days'].count()"
   ]
  },
  {
   "cell_type": "code",
   "execution_count": 23,
   "id": "5b9284b8",
   "metadata": {},
   "outputs": [
    {
     "data": {
      "text/html": [
       "<div>\n",
       "<style scoped>\n",
       "    .dataframe tbody tr th:only-of-type {\n",
       "        vertical-align: middle;\n",
       "    }\n",
       "\n",
       "    .dataframe tbody tr th {\n",
       "        vertical-align: top;\n",
       "    }\n",
       "\n",
       "    .dataframe thead th {\n",
       "        text-align: right;\n",
       "    }\n",
       "</style>\n",
       "<table border=\"1\" class=\"dataframe\">\n",
       "  <thead>\n",
       "    <tr style=\"text-align: right;\">\n",
       "      <th></th>\n",
       "      <th>ORDER_NUMBER</th>\n",
       "    </tr>\n",
       "    <tr>\n",
       "      <th>ORDER_DATE</th>\n",
       "      <th></th>\n",
       "    </tr>\n",
       "  </thead>\n",
       "  <tbody>\n",
       "    <tr>\n",
       "      <th>2015-11-01</th>\n",
       "      <td>118</td>\n",
       "    </tr>\n",
       "    <tr>\n",
       "      <th>2015-11-02</th>\n",
       "      <td>276</td>\n",
       "    </tr>\n",
       "    <tr>\n",
       "      <th>2015-11-03</th>\n",
       "      <td>202</td>\n",
       "    </tr>\n",
       "    <tr>\n",
       "      <th>2015-11-04</th>\n",
       "      <td>704</td>\n",
       "    </tr>\n",
       "    <tr>\n",
       "      <th>2015-11-05</th>\n",
       "      <td>387</td>\n",
       "    </tr>\n",
       "    <tr>\n",
       "      <th>...</th>\n",
       "      <td>...</td>\n",
       "    </tr>\n",
       "    <tr>\n",
       "      <th>2016-07-18</th>\n",
       "      <td>1297</td>\n",
       "    </tr>\n",
       "    <tr>\n",
       "      <th>2016-07-19</th>\n",
       "      <td>119</td>\n",
       "    </tr>\n",
       "    <tr>\n",
       "      <th>2016-07-20</th>\n",
       "      <td>2</td>\n",
       "    </tr>\n",
       "    <tr>\n",
       "      <th>2016-07-21</th>\n",
       "      <td>4</td>\n",
       "    </tr>\n",
       "    <tr>\n",
       "      <th>2016-07-30</th>\n",
       "      <td>16</td>\n",
       "    </tr>\n",
       "  </tbody>\n",
       "</table>\n",
       "<p>259 rows × 1 columns</p>\n",
       "</div>"
      ],
      "text/plain": [
       "            ORDER_NUMBER\n",
       "ORDER_DATE              \n",
       "2015-11-01           118\n",
       "2015-11-02           276\n",
       "2015-11-03           202\n",
       "2015-11-04           704\n",
       "2015-11-05           387\n",
       "...                  ...\n",
       "2016-07-18          1297\n",
       "2016-07-19           119\n",
       "2016-07-20             2\n",
       "2016-07-21             4\n",
       "2016-07-30            16\n",
       "\n",
       "[259 rows x 1 columns]"
      ]
     },
     "execution_count": 23,
     "metadata": {},
     "output_type": "execute_result"
    }
   ],
   "source": [
    " df.groupby(['ORDER_DATE'])[['ORDER_NUMBER']].count()"
   ]
  },
  {
   "cell_type": "markdown",
   "id": "17df647b",
   "metadata": {},
   "source": [
    "### Q11. Growth Rate  (%) in Orders (from Nov’15 to July’16)"
   ]
  },
  {
   "cell_type": "code",
   "execution_count": 24,
   "id": "70a727fb",
   "metadata": {},
   "outputs": [
    {
     "data": {
      "text/html": [
       "<div>\n",
       "<style scoped>\n",
       "    .dataframe tbody tr th:only-of-type {\n",
       "        vertical-align: middle;\n",
       "    }\n",
       "\n",
       "    .dataframe tbody tr th {\n",
       "        vertical-align: top;\n",
       "    }\n",
       "\n",
       "    .dataframe thead th {\n",
       "        text-align: right;\n",
       "    }\n",
       "</style>\n",
       "<table border=\"1\" class=\"dataframe\">\n",
       "  <thead>\n",
       "    <tr style=\"text-align: right;\">\n",
       "      <th></th>\n",
       "      <th>ORDER_NUMBER</th>\n",
       "    </tr>\n",
       "    <tr>\n",
       "      <th>ORDER_DATE</th>\n",
       "      <th></th>\n",
       "    </tr>\n",
       "  </thead>\n",
       "  <tbody>\n",
       "    <tr>\n",
       "      <th>2015-11-01</th>\n",
       "      <td>118</td>\n",
       "    </tr>\n",
       "    <tr>\n",
       "      <th>2015-11-02</th>\n",
       "      <td>276</td>\n",
       "    </tr>\n",
       "    <tr>\n",
       "      <th>2015-11-03</th>\n",
       "      <td>202</td>\n",
       "    </tr>\n",
       "    <tr>\n",
       "      <th>2015-11-04</th>\n",
       "      <td>704</td>\n",
       "    </tr>\n",
       "    <tr>\n",
       "      <th>2015-11-05</th>\n",
       "      <td>387</td>\n",
       "    </tr>\n",
       "    <tr>\n",
       "      <th>...</th>\n",
       "      <td>...</td>\n",
       "    </tr>\n",
       "    <tr>\n",
       "      <th>2016-07-18</th>\n",
       "      <td>1297</td>\n",
       "    </tr>\n",
       "    <tr>\n",
       "      <th>2016-07-19</th>\n",
       "      <td>119</td>\n",
       "    </tr>\n",
       "    <tr>\n",
       "      <th>2016-07-20</th>\n",
       "      <td>2</td>\n",
       "    </tr>\n",
       "    <tr>\n",
       "      <th>2016-07-21</th>\n",
       "      <td>4</td>\n",
       "    </tr>\n",
       "    <tr>\n",
       "      <th>2016-07-30</th>\n",
       "      <td>16</td>\n",
       "    </tr>\n",
       "  </tbody>\n",
       "</table>\n",
       "<p>259 rows × 1 columns</p>\n",
       "</div>"
      ],
      "text/plain": [
       "            ORDER_NUMBER\n",
       "ORDER_DATE              \n",
       "2015-11-01           118\n",
       "2015-11-02           276\n",
       "2015-11-03           202\n",
       "2015-11-04           704\n",
       "2015-11-05           387\n",
       "...                  ...\n",
       "2016-07-18          1297\n",
       "2016-07-19           119\n",
       "2016-07-20             2\n",
       "2016-07-21             4\n",
       "2016-07-30            16\n",
       "\n",
       "[259 rows x 1 columns]"
      ]
     },
     "execution_count": 24,
     "metadata": {},
     "output_type": "execute_result"
    }
   ],
   "source": [
    "Nov_July = df[df['ORDER_DATE'].between(\"2015-11-01\", \"2016-07-31\")]\n",
    "Grouping = Nov_July.groupby(['ORDER_DATE'])[['ORDER_NUMBER']].count()\n",
    "Grouping"
   ]
  },
  {
   "cell_type": "code",
   "execution_count": 25,
   "id": "b964e047",
   "metadata": {},
   "outputs": [],
   "source": [
    "start_value = float(Grouping.iloc[0])\n",
    "end_value = float(Grouping.iloc[-1])\n",
    "num_periods = len(Grouping)"
   ]
  },
  {
   "cell_type": "code",
   "execution_count": 49,
   "id": "c49ed236",
   "metadata": {},
   "outputs": [
    {
     "name": "stdout",
     "output_type": "stream",
     "text": [
      "-0.007812881779207359\n",
      "-0.78%\n"
     ]
    }
   ],
   "source": [
    "def cagr(start_value, end_value, num_periods):\n",
    "    return (end_value / start_value) ** (1 / (num_periods - 1)) - 1\n",
    "\n",
    "result = cagr(start_value, end_value, num_periods)\n",
    "print(result)\n",
    "print(\"{:.2%}\".format(result))"
   ]
  },
  {
   "cell_type": "markdown",
   "id": "a663f773",
   "metadata": {},
   "source": [
    "### Q12. Growth Rate (%) in Revenue (from Nov'15 to July'16)"
   ]
  },
  {
   "cell_type": "code",
   "execution_count": 27,
   "id": "469413df",
   "metadata": {},
   "outputs": [],
   "source": [
    "Grouping_revenue = Nov_July.groupby(['ORDER_DATE'])[['ORDER_TOTAL']].sum()"
   ]
  },
  {
   "cell_type": "code",
   "execution_count": 28,
   "id": "506d1529",
   "metadata": {},
   "outputs": [
    {
     "data": {
      "text/html": [
       "<div>\n",
       "<style scoped>\n",
       "    .dataframe tbody tr th:only-of-type {\n",
       "        vertical-align: middle;\n",
       "    }\n",
       "\n",
       "    .dataframe tbody tr th {\n",
       "        vertical-align: top;\n",
       "    }\n",
       "\n",
       "    .dataframe thead th {\n",
       "        text-align: right;\n",
       "    }\n",
       "</style>\n",
       "<table border=\"1\" class=\"dataframe\">\n",
       "  <thead>\n",
       "    <tr style=\"text-align: right;\">\n",
       "      <th></th>\n",
       "      <th>ORDER_TOTAL</th>\n",
       "    </tr>\n",
       "    <tr>\n",
       "      <th>ORDER_DATE</th>\n",
       "      <th></th>\n",
       "    </tr>\n",
       "  </thead>\n",
       "  <tbody>\n",
       "    <tr>\n",
       "      <th>2015-11-01</th>\n",
       "      <td>6.789200e+04</td>\n",
       "    </tr>\n",
       "    <tr>\n",
       "      <th>2015-11-02</th>\n",
       "      <td>2.230036e+05</td>\n",
       "    </tr>\n",
       "    <tr>\n",
       "      <th>2015-11-03</th>\n",
       "      <td>1.125242e+05</td>\n",
       "    </tr>\n",
       "    <tr>\n",
       "      <th>2015-11-04</th>\n",
       "      <td>4.439703e+05</td>\n",
       "    </tr>\n",
       "    <tr>\n",
       "      <th>2015-11-05</th>\n",
       "      <td>3.518177e+05</td>\n",
       "    </tr>\n",
       "    <tr>\n",
       "      <th>...</th>\n",
       "      <td>...</td>\n",
       "    </tr>\n",
       "    <tr>\n",
       "      <th>2016-07-18</th>\n",
       "      <td>1.021991e+06</td>\n",
       "    </tr>\n",
       "    <tr>\n",
       "      <th>2016-07-19</th>\n",
       "      <td>6.804367e+04</td>\n",
       "    </tr>\n",
       "    <tr>\n",
       "      <th>2016-07-20</th>\n",
       "      <td>1.122780e+03</td>\n",
       "    </tr>\n",
       "    <tr>\n",
       "      <th>2016-07-21</th>\n",
       "      <td>1.211250e+03</td>\n",
       "    </tr>\n",
       "    <tr>\n",
       "      <th>2016-07-30</th>\n",
       "      <td>8.973530e+03</td>\n",
       "    </tr>\n",
       "  </tbody>\n",
       "</table>\n",
       "<p>259 rows × 1 columns</p>\n",
       "</div>"
      ],
      "text/plain": [
       "             ORDER_TOTAL\n",
       "ORDER_DATE              \n",
       "2015-11-01  6.789200e+04\n",
       "2015-11-02  2.230036e+05\n",
       "2015-11-03  1.125242e+05\n",
       "2015-11-04  4.439703e+05\n",
       "2015-11-05  3.518177e+05\n",
       "...                  ...\n",
       "2016-07-18  1.021991e+06\n",
       "2016-07-19  6.804367e+04\n",
       "2016-07-20  1.122780e+03\n",
       "2016-07-21  1.211250e+03\n",
       "2016-07-30  8.973530e+03\n",
       "\n",
       "[259 rows x 1 columns]"
      ]
     },
     "execution_count": 28,
     "metadata": {},
     "output_type": "execute_result"
    }
   ],
   "source": [
    "Grouping_revenue"
   ]
  },
  {
   "cell_type": "code",
   "execution_count": 29,
   "id": "ef155873",
   "metadata": {},
   "outputs": [],
   "source": [
    "start_value = float(Grouping_revenue.iloc[0])\n",
    "end_value = float(Grouping_revenue.iloc[-1])\n",
    "num_periods = len(Grouping_revenue)"
   ]
  },
  {
   "cell_type": "code",
   "execution_count": 48,
   "id": "afbc37c5",
   "metadata": {},
   "outputs": [
    {
     "name": "stdout",
     "output_type": "stream",
     "text": [
      "-0.7812881779207359\n"
     ]
    }
   ],
   "source": [
    "def cagr(start_value, end_value, num_periods):\n",
    "    return (end_value / start_value) ** (1 / (num_periods - 1)) - 1\n",
    "\n",
    "result = cagr(start_value, end_value, num_periods)\n",
    "print(result*100)"
   ]
  },
  {
   "cell_type": "markdown",
   "id": "3cea40aa",
   "metadata": {},
   "source": [
    "### Q13. What is the percentage of Male customers exists?"
   ]
  },
  {
   "cell_type": "code",
   "execution_count": 46,
   "id": "0dacdc07",
   "metadata": {},
   "outputs": [
    {
     "data": {
      "text/plain": [
       "Gender\n",
       "M         70.198725\n",
       "dtype: float64"
      ]
     },
     "execution_count": 46,
     "metadata": {},
     "output_type": "execute_result"
    }
   ],
   "source": [
    "male = df[['Gender']].value_counts(normalize=True).iloc[:1] * 100\n",
    "male"
   ]
  },
  {
   "cell_type": "markdown",
   "id": "f89fd93e",
   "metadata": {},
   "source": [
    "### Q14. Which location have maximum customers?"
   ]
  },
  {
   "cell_type": "code",
   "execution_count": 62,
   "id": "49ed6c95",
   "metadata": {},
   "outputs": [
    {
     "data": {
      "text/html": [
       "<div>\n",
       "<style scoped>\n",
       "    .dataframe tbody tr th:only-of-type {\n",
       "        vertical-align: middle;\n",
       "    }\n",
       "\n",
       "    .dataframe tbody tr th {\n",
       "        vertical-align: top;\n",
       "    }\n",
       "\n",
       "    .dataframe thead th {\n",
       "        text-align: right;\n",
       "    }\n",
       "</style>\n",
       "<table border=\"1\" class=\"dataframe\">\n",
       "  <thead>\n",
       "    <tr style=\"text-align: right;\">\n",
       "      <th></th>\n",
       "      <th>CUSTOMER_KEY</th>\n",
       "    </tr>\n",
       "    <tr>\n",
       "      <th>Location</th>\n",
       "      <th></th>\n",
       "    </tr>\n",
       "  </thead>\n",
       "  <tbody>\n",
       "    <tr>\n",
       "      <th>Gurgaon</th>\n",
       "      <td>68830</td>\n",
       "    </tr>\n",
       "  </tbody>\n",
       "</table>\n",
       "</div>"
      ],
      "text/plain": [
       "          CUSTOMER_KEY\n",
       "Location              \n",
       "Gurgaon          68830"
      ]
     },
     "execution_count": 62,
     "metadata": {},
     "output_type": "execute_result"
    }
   ],
   "source": [
    "df.groupby(['Location'])[['CUSTOMER_KEY']].count().sort_values(by='CUSTOMER_KEY',ascending=False).head(1)"
   ]
  },
  {
   "cell_type": "markdown",
   "id": "133525d8",
   "metadata": {},
   "source": [
    "### Q15. How many orders are returned? (Returns can be found if the order total value is negative value)"
   ]
  },
  {
   "cell_type": "code",
   "execution_count": 75,
   "id": "27348323",
   "metadata": {},
   "outputs": [
    {
     "data": {
      "text/plain": [
       "249"
      ]
     },
     "execution_count": 75,
     "metadata": {},
     "output_type": "execute_result"
    }
   ],
   "source": [
    "df[df['ORDER_TOTAL']<0]['ORDER_TOTAL'].count()"
   ]
  },
  {
   "cell_type": "markdown",
   "id": "b21f51dc",
   "metadata": {},
   "source": [
    "### Q16. Which Acquisition channel is more efficient in terms of customer acquisition?"
   ]
  },
  {
   "cell_type": "code",
   "execution_count": 80,
   "id": "0eed7b4c",
   "metadata": {},
   "outputs": [
    {
     "data": {
      "text/html": [
       "<div>\n",
       "<style scoped>\n",
       "    .dataframe tbody tr th:only-of-type {\n",
       "        vertical-align: middle;\n",
       "    }\n",
       "\n",
       "    .dataframe tbody tr th {\n",
       "        vertical-align: top;\n",
       "    }\n",
       "\n",
       "    .dataframe thead th {\n",
       "        text-align: right;\n",
       "    }\n",
       "</style>\n",
       "<table border=\"1\" class=\"dataframe\">\n",
       "  <thead>\n",
       "    <tr style=\"text-align: right;\">\n",
       "      <th></th>\n",
       "      <th>CUSTOMER_KEY</th>\n",
       "    </tr>\n",
       "    <tr>\n",
       "      <th>Acquired Channel</th>\n",
       "      <th></th>\n",
       "    </tr>\n",
       "  </thead>\n",
       "  <tbody>\n",
       "    <tr>\n",
       "      <th>WEBSITE</th>\n",
       "      <td>105376</td>\n",
       "    </tr>\n",
       "  </tbody>\n",
       "</table>\n",
       "</div>"
      ],
      "text/plain": [
       "                  CUSTOMER_KEY\n",
       "Acquired Channel              \n",
       "WEBSITE                 105376"
      ]
     },
     "execution_count": 80,
     "metadata": {},
     "output_type": "execute_result"
    }
   ],
   "source": [
    "df.groupby(['Acquired Channel'])[['CUSTOMER_KEY']].count().sort_values(by='CUSTOMER_KEY',ascending=False).head(1)"
   ]
  },
  {
   "cell_type": "markdown",
   "id": "7fb1d0ef",
   "metadata": {},
   "source": [
    "### Q17. Which location having more orders with discount amount?"
   ]
  },
  {
   "cell_type": "code",
   "execution_count": 88,
   "id": "9afaa955",
   "metadata": {},
   "outputs": [
    {
     "data": {
      "text/html": [
       "<div>\n",
       "<style scoped>\n",
       "    .dataframe tbody tr th:only-of-type {\n",
       "        vertical-align: middle;\n",
       "    }\n",
       "\n",
       "    .dataframe tbody tr th {\n",
       "        vertical-align: top;\n",
       "    }\n",
       "\n",
       "    .dataframe thead th {\n",
       "        text-align: right;\n",
       "    }\n",
       "</style>\n",
       "<table border=\"1\" class=\"dataframe\">\n",
       "  <thead>\n",
       "    <tr style=\"text-align: right;\">\n",
       "      <th></th>\n",
       "      <th>ORDER_NUMBER</th>\n",
       "      <th>CUSTOMER_KEY</th>\n",
       "      <th>ORDER_TOTAL</th>\n",
       "      <th>DISCOUNT</th>\n",
       "      <th>ORDER_DATE</th>\n",
       "      <th>ORDER_STATUS</th>\n",
       "      <th>DELIVERY_STATUS</th>\n",
       "      <th>CUSTOMER_ID</th>\n",
       "      <th>CONTACT_NUMBER</th>\n",
       "      <th>Referred Other customers</th>\n",
       "      <th>Gender</th>\n",
       "      <th>Location</th>\n",
       "      <th>Acquired Channel</th>\n",
       "      <th>month</th>\n",
       "    </tr>\n",
       "  </thead>\n",
       "  <tbody>\n",
       "    <tr>\n",
       "      <th>34</th>\n",
       "      <td>O100015</td>\n",
       "      <td>C100002</td>\n",
       "      <td>270.27</td>\n",
       "      <td>400.0</td>\n",
       "      <td>2016-05-20</td>\n",
       "      <td>Delivered</td>\n",
       "      <td>ON-TIME</td>\n",
       "      <td>3.0</td>\n",
       "      <td>9.779086e+09</td>\n",
       "      <td>N</td>\n",
       "      <td>M</td>\n",
       "      <td>Gurgaon</td>\n",
       "      <td>WEBSITE</td>\n",
       "      <td>5.0</td>\n",
       "    </tr>\n",
       "    <tr>\n",
       "      <th>35</th>\n",
       "      <td>O100015</td>\n",
       "      <td>C100002</td>\n",
       "      <td>270.27</td>\n",
       "      <td>400.0</td>\n",
       "      <td>2016-05-20</td>\n",
       "      <td>Delivered</td>\n",
       "      <td>ON-TIME</td>\n",
       "      <td>9.0</td>\n",
       "      <td>9.779086e+09</td>\n",
       "      <td>N</td>\n",
       "      <td>F</td>\n",
       "      <td>Chennai</td>\n",
       "      <td>WEBSITE</td>\n",
       "      <td>5.0</td>\n",
       "    </tr>\n",
       "    <tr>\n",
       "      <th>36</th>\n",
       "      <td>O100015</td>\n",
       "      <td>C100002</td>\n",
       "      <td>270.27</td>\n",
       "      <td>400.0</td>\n",
       "      <td>2016-05-20</td>\n",
       "      <td>Delivered</td>\n",
       "      <td>ON-TIME</td>\n",
       "      <td>16.0</td>\n",
       "      <td>9.779086e+09</td>\n",
       "      <td>N</td>\n",
       "      <td>F</td>\n",
       "      <td>Gurgaon</td>\n",
       "      <td>WEBSITE</td>\n",
       "      <td>5.0</td>\n",
       "    </tr>\n",
       "    <tr>\n",
       "      <th>37</th>\n",
       "      <td>O100015</td>\n",
       "      <td>C100002</td>\n",
       "      <td>270.27</td>\n",
       "      <td>400.0</td>\n",
       "      <td>2016-05-20</td>\n",
       "      <td>Delivered</td>\n",
       "      <td>ON-TIME</td>\n",
       "      <td>17.0</td>\n",
       "      <td>9.779086e+09</td>\n",
       "      <td>N</td>\n",
       "      <td>F</td>\n",
       "      <td>Chennai</td>\n",
       "      <td>WEBSITE</td>\n",
       "      <td>5.0</td>\n",
       "    </tr>\n",
       "    <tr>\n",
       "      <th>38</th>\n",
       "      <td>O100016</td>\n",
       "      <td>C100002</td>\n",
       "      <td>0.00</td>\n",
       "      <td>164.0</td>\n",
       "      <td>2016-05-20</td>\n",
       "      <td>Delivered</td>\n",
       "      <td>ON-TIME</td>\n",
       "      <td>3.0</td>\n",
       "      <td>9.779086e+09</td>\n",
       "      <td>N</td>\n",
       "      <td>M</td>\n",
       "      <td>Gurgaon</td>\n",
       "      <td>WEBSITE</td>\n",
       "      <td>5.0</td>\n",
       "    </tr>\n",
       "  </tbody>\n",
       "</table>\n",
       "</div>"
      ],
      "text/plain": [
       "   ORDER_NUMBER CUSTOMER_KEY  ORDER_TOTAL  DISCOUNT ORDER_DATE ORDER_STATUS  \\\n",
       "34      O100015      C100002       270.27     400.0 2016-05-20    Delivered   \n",
       "35      O100015      C100002       270.27     400.0 2016-05-20    Delivered   \n",
       "36      O100015      C100002       270.27     400.0 2016-05-20    Delivered   \n",
       "37      O100015      C100002       270.27     400.0 2016-05-20    Delivered   \n",
       "38      O100016      C100002         0.00     164.0 2016-05-20    Delivered   \n",
       "\n",
       "   DELIVERY_STATUS  CUSTOMER_ID  CONTACT_NUMBER Referred Other customers  \\\n",
       "34         ON-TIME          3.0    9.779086e+09                        N   \n",
       "35         ON-TIME          9.0    9.779086e+09                        N   \n",
       "36         ON-TIME         16.0    9.779086e+09                        N   \n",
       "37         ON-TIME         17.0    9.779086e+09                        N   \n",
       "38         ON-TIME          3.0    9.779086e+09                        N   \n",
       "\n",
       "   Gender Location Acquired Channel  month  \n",
       "34      M  Gurgaon          WEBSITE    5.0  \n",
       "35      F  Chennai          WEBSITE    5.0  \n",
       "36      F  Gurgaon          WEBSITE    5.0  \n",
       "37      F  Chennai          WEBSITE    5.0  \n",
       "38      M  Gurgaon          WEBSITE    5.0  "
      ]
     },
     "execution_count": 88,
     "metadata": {},
     "output_type": "execute_result"
    }
   ],
   "source": [
    "city_with_discount = df[df['DISCOUNT']>0]\n",
    "city_with_discount.head()"
   ]
  },
  {
   "cell_type": "code",
   "execution_count": 96,
   "id": "0f1eec8f",
   "metadata": {},
   "outputs": [
    {
     "data": {
      "text/html": [
       "<div>\n",
       "<style scoped>\n",
       "    .dataframe tbody tr th:only-of-type {\n",
       "        vertical-align: middle;\n",
       "    }\n",
       "\n",
       "    .dataframe tbody tr th {\n",
       "        vertical-align: top;\n",
       "    }\n",
       "\n",
       "    .dataframe thead th {\n",
       "        text-align: right;\n",
       "    }\n",
       "</style>\n",
       "<table border=\"1\" class=\"dataframe\">\n",
       "  <thead>\n",
       "    <tr style=\"text-align: right;\">\n",
       "      <th></th>\n",
       "      <th>ORDER_NUMBER</th>\n",
       "    </tr>\n",
       "    <tr>\n",
       "      <th>Location</th>\n",
       "      <th></th>\n",
       "    </tr>\n",
       "  </thead>\n",
       "  <tbody>\n",
       "    <tr>\n",
       "      <th>Gurgaon</th>\n",
       "      <td>982</td>\n",
       "    </tr>\n",
       "  </tbody>\n",
       "</table>\n",
       "</div>"
      ],
      "text/plain": [
       "          ORDER_NUMBER\n",
       "Location              \n",
       "Gurgaon            982"
      ]
     },
     "execution_count": 96,
     "metadata": {},
     "output_type": "execute_result"
    }
   ],
   "source": [
    "city_with_discount.groupby(['Location'])[['ORDER_NUMBER']].count().sort_values(by='ORDER_NUMBER',ascending=False).head(1)"
   ]
  },
  {
   "cell_type": "markdown",
   "id": "4e2f4c81",
   "metadata": {},
   "source": [
    "### Q18. Which location having maximum orders delivered in delay?"
   ]
  },
  {
   "cell_type": "code",
   "execution_count": 119,
   "id": "b889a638",
   "metadata": {},
   "outputs": [
    {
     "data": {
      "text/html": [
       "<div>\n",
       "<style scoped>\n",
       "    .dataframe tbody tr th:only-of-type {\n",
       "        vertical-align: middle;\n",
       "    }\n",
       "\n",
       "    .dataframe tbody tr th {\n",
       "        vertical-align: top;\n",
       "    }\n",
       "\n",
       "    .dataframe thead th {\n",
       "        text-align: right;\n",
       "    }\n",
       "</style>\n",
       "<table border=\"1\" class=\"dataframe\">\n",
       "  <thead>\n",
       "    <tr style=\"text-align: right;\">\n",
       "      <th></th>\n",
       "      <th>ORDER_NUMBER</th>\n",
       "      <th>CUSTOMER_KEY</th>\n",
       "      <th>ORDER_TOTAL</th>\n",
       "      <th>DISCOUNT</th>\n",
       "      <th>ORDER_DATE</th>\n",
       "      <th>ORDER_STATUS</th>\n",
       "      <th>DELIVERY_STATUS</th>\n",
       "      <th>CUSTOMER_ID</th>\n",
       "      <th>CONTACT_NUMBER</th>\n",
       "      <th>Referred Other customers</th>\n",
       "      <th>Gender</th>\n",
       "      <th>Location</th>\n",
       "      <th>Acquired Channel</th>\n",
       "      <th>month</th>\n",
       "    </tr>\n",
       "  </thead>\n",
       "  <tbody>\n",
       "    <tr>\n",
       "      <th>74</th>\n",
       "      <td>O100006</td>\n",
       "      <td>C100006</td>\n",
       "      <td>1283.250000</td>\n",
       "      <td>0.0</td>\n",
       "      <td>2016-05-19</td>\n",
       "      <td>Delivered</td>\n",
       "      <td>LATE</td>\n",
       "      <td>7.0</td>\n",
       "      <td>9.477025e+09</td>\n",
       "      <td>N</td>\n",
       "      <td>F</td>\n",
       "      <td>Chennai</td>\n",
       "      <td>APP</td>\n",
       "      <td>5.0</td>\n",
       "    </tr>\n",
       "    <tr>\n",
       "      <th>221</th>\n",
       "      <td>O101860</td>\n",
       "      <td>C10067</td>\n",
       "      <td>2555.590088</td>\n",
       "      <td>0.0</td>\n",
       "      <td>2016-01-07</td>\n",
       "      <td>Delivered</td>\n",
       "      <td>LATE</td>\n",
       "      <td>10.0</td>\n",
       "      <td>9.746923e+09</td>\n",
       "      <td>N</td>\n",
       "      <td>F</td>\n",
       "      <td>Gurgaon</td>\n",
       "      <td>APP</td>\n",
       "      <td>1.0</td>\n",
       "    </tr>\n",
       "    <tr>\n",
       "      <th>222</th>\n",
       "      <td>O101860</td>\n",
       "      <td>C10067</td>\n",
       "      <td>2555.590088</td>\n",
       "      <td>0.0</td>\n",
       "      <td>2016-01-07</td>\n",
       "      <td>Delivered</td>\n",
       "      <td>LATE</td>\n",
       "      <td>20.0</td>\n",
       "      <td>9.746923e+09</td>\n",
       "      <td>N</td>\n",
       "      <td>M</td>\n",
       "      <td>Bangalore</td>\n",
       "      <td>WEBSITE</td>\n",
       "      <td>1.0</td>\n",
       "    </tr>\n",
       "    <tr>\n",
       "      <th>223</th>\n",
       "      <td>O101860</td>\n",
       "      <td>C10067</td>\n",
       "      <td>2555.590088</td>\n",
       "      <td>0.0</td>\n",
       "      <td>2016-01-07</td>\n",
       "      <td>Delivered</td>\n",
       "      <td>LATE</td>\n",
       "      <td>31.0</td>\n",
       "      <td>9.746923e+09</td>\n",
       "      <td>N</td>\n",
       "      <td>F</td>\n",
       "      <td>Gurgaon</td>\n",
       "      <td>WEBSITE</td>\n",
       "      <td>1.0</td>\n",
       "    </tr>\n",
       "    <tr>\n",
       "      <th>224</th>\n",
       "      <td>O101860</td>\n",
       "      <td>C10067</td>\n",
       "      <td>2555.590088</td>\n",
       "      <td>0.0</td>\n",
       "      <td>2016-01-07</td>\n",
       "      <td>Delivered</td>\n",
       "      <td>LATE</td>\n",
       "      <td>969.0</td>\n",
       "      <td>9.746923e+09</td>\n",
       "      <td>N</td>\n",
       "      <td>F</td>\n",
       "      <td>Others</td>\n",
       "      <td>WEBSITE</td>\n",
       "      <td>1.0</td>\n",
       "    </tr>\n",
       "    <tr>\n",
       "      <th>...</th>\n",
       "      <td>...</td>\n",
       "      <td>...</td>\n",
       "      <td>...</td>\n",
       "      <td>...</td>\n",
       "      <td>...</td>\n",
       "      <td>...</td>\n",
       "      <td>...</td>\n",
       "      <td>...</td>\n",
       "      <td>...</td>\n",
       "      <td>...</td>\n",
       "      <td>...</td>\n",
       "      <td>...</td>\n",
       "      <td>...</td>\n",
       "      <td>...</td>\n",
       "    </tr>\n",
       "    <tr>\n",
       "      <th>173564</th>\n",
       "      <td>O129274</td>\n",
       "      <td>C19395</td>\n",
       "      <td>1078.090000</td>\n",
       "      <td>0.0</td>\n",
       "      <td>2016-07-17</td>\n",
       "      <td>Delivered</td>\n",
       "      <td>LATE</td>\n",
       "      <td>29275.0</td>\n",
       "      <td>9.837446e+09</td>\n",
       "      <td>N</td>\n",
       "      <td>M</td>\n",
       "      <td>Bangalore</td>\n",
       "      <td>WEBSITE</td>\n",
       "      <td>7.0</td>\n",
       "    </tr>\n",
       "    <tr>\n",
       "      <th>173591</th>\n",
       "      <td>O129328</td>\n",
       "      <td>C19423</td>\n",
       "      <td>99.070000</td>\n",
       "      <td>0.0</td>\n",
       "      <td>2016-07-17</td>\n",
       "      <td>Delivered</td>\n",
       "      <td>LATE</td>\n",
       "      <td>29329.0</td>\n",
       "      <td>9.056898e+09</td>\n",
       "      <td>N</td>\n",
       "      <td>M</td>\n",
       "      <td>Chennai</td>\n",
       "      <td>WEBSITE</td>\n",
       "      <td>7.0</td>\n",
       "    </tr>\n",
       "    <tr>\n",
       "      <th>173618</th>\n",
       "      <td>O129454</td>\n",
       "      <td>C19446</td>\n",
       "      <td>214.790000</td>\n",
       "      <td>200.0</td>\n",
       "      <td>2016-07-18</td>\n",
       "      <td>Delivered</td>\n",
       "      <td>LATE</td>\n",
       "      <td>29455.0</td>\n",
       "      <td>9.220270e+09</td>\n",
       "      <td>N</td>\n",
       "      <td>M</td>\n",
       "      <td>Chennai</td>\n",
       "      <td>APP</td>\n",
       "      <td>7.0</td>\n",
       "    </tr>\n",
       "    <tr>\n",
       "      <th>173623</th>\n",
       "      <td>O129490</td>\n",
       "      <td>C19456</td>\n",
       "      <td>755.910000</td>\n",
       "      <td>200.0</td>\n",
       "      <td>2016-07-18</td>\n",
       "      <td>Delivered</td>\n",
       "      <td>LATE</td>\n",
       "      <td>29491.0</td>\n",
       "      <td>9.382241e+09</td>\n",
       "      <td>N</td>\n",
       "      <td>F</td>\n",
       "      <td>Chennai</td>\n",
       "      <td>APP</td>\n",
       "      <td>7.0</td>\n",
       "    </tr>\n",
       "    <tr>\n",
       "      <th>173645</th>\n",
       "      <td>O129580</td>\n",
       "      <td>C19479</td>\n",
       "      <td>705.250000</td>\n",
       "      <td>200.0</td>\n",
       "      <td>2016-07-18</td>\n",
       "      <td>Delivered</td>\n",
       "      <td>LATE</td>\n",
       "      <td>29581.0</td>\n",
       "      <td>9.180275e+09</td>\n",
       "      <td>N</td>\n",
       "      <td>F</td>\n",
       "      <td>Gurgaon</td>\n",
       "      <td>APP</td>\n",
       "      <td>7.0</td>\n",
       "    </tr>\n",
       "  </tbody>\n",
       "</table>\n",
       "<p>9465 rows × 14 columns</p>\n",
       "</div>"
      ],
      "text/plain": [
       "       ORDER_NUMBER CUSTOMER_KEY  ORDER_TOTAL  DISCOUNT ORDER_DATE  \\\n",
       "74          O100006      C100006  1283.250000       0.0 2016-05-19   \n",
       "221         O101860       C10067  2555.590088       0.0 2016-01-07   \n",
       "222         O101860       C10067  2555.590088       0.0 2016-01-07   \n",
       "223         O101860       C10067  2555.590088       0.0 2016-01-07   \n",
       "224         O101860       C10067  2555.590088       0.0 2016-01-07   \n",
       "...             ...          ...          ...       ...        ...   \n",
       "173564      O129274       C19395  1078.090000       0.0 2016-07-17   \n",
       "173591      O129328       C19423    99.070000       0.0 2016-07-17   \n",
       "173618      O129454       C19446   214.790000     200.0 2016-07-18   \n",
       "173623      O129490       C19456   755.910000     200.0 2016-07-18   \n",
       "173645      O129580       C19479   705.250000     200.0 2016-07-18   \n",
       "\n",
       "       ORDER_STATUS DELIVERY_STATUS  CUSTOMER_ID  CONTACT_NUMBER  \\\n",
       "74        Delivered            LATE          7.0    9.477025e+09   \n",
       "221       Delivered            LATE         10.0    9.746923e+09   \n",
       "222       Delivered            LATE         20.0    9.746923e+09   \n",
       "223       Delivered            LATE         31.0    9.746923e+09   \n",
       "224       Delivered            LATE        969.0    9.746923e+09   \n",
       "...             ...             ...          ...             ...   \n",
       "173564    Delivered            LATE      29275.0    9.837446e+09   \n",
       "173591    Delivered            LATE      29329.0    9.056898e+09   \n",
       "173618    Delivered            LATE      29455.0    9.220270e+09   \n",
       "173623    Delivered            LATE      29491.0    9.382241e+09   \n",
       "173645    Delivered            LATE      29581.0    9.180275e+09   \n",
       "\n",
       "       Referred Other customers Gender   Location Acquired Channel  month  \n",
       "74                            N      F    Chennai              APP    5.0  \n",
       "221                           N      F    Gurgaon              APP    1.0  \n",
       "222                           N      M  Bangalore          WEBSITE    1.0  \n",
       "223                           N      F    Gurgaon          WEBSITE    1.0  \n",
       "224                           N      F     Others          WEBSITE    1.0  \n",
       "...                         ...    ...        ...              ...    ...  \n",
       "173564                        N      M  Bangalore          WEBSITE    7.0  \n",
       "173591                        N      M    Chennai          WEBSITE    7.0  \n",
       "173618                        N      M    Chennai              APP    7.0  \n",
       "173623                        N      F    Chennai              APP    7.0  \n",
       "173645                        N      F    Gurgaon              APP    7.0  \n",
       "\n",
       "[9465 rows x 14 columns]"
      ]
     },
     "execution_count": 119,
     "metadata": {},
     "output_type": "execute_result"
    }
   ],
   "source": [
    "location_having_delay = df[df['DELIVERY_STATUS'] == 'LATE']\n",
    "location_having_delay"
   ]
  },
  {
   "cell_type": "code",
   "execution_count": 121,
   "id": "c3b73f1b",
   "metadata": {},
   "outputs": [
    {
     "data": {
      "text/html": [
       "<div>\n",
       "<style scoped>\n",
       "    .dataframe tbody tr th:only-of-type {\n",
       "        vertical-align: middle;\n",
       "    }\n",
       "\n",
       "    .dataframe tbody tr th {\n",
       "        vertical-align: top;\n",
       "    }\n",
       "\n",
       "    .dataframe thead th {\n",
       "        text-align: right;\n",
       "    }\n",
       "</style>\n",
       "<table border=\"1\" class=\"dataframe\">\n",
       "  <thead>\n",
       "    <tr style=\"text-align: right;\">\n",
       "      <th></th>\n",
       "      <th>ORDER_NUMBER</th>\n",
       "    </tr>\n",
       "    <tr>\n",
       "      <th>Location</th>\n",
       "      <th></th>\n",
       "    </tr>\n",
       "  </thead>\n",
       "  <tbody>\n",
       "    <tr>\n",
       "      <th>Gurgaon</th>\n",
       "      <td>3777</td>\n",
       "    </tr>\n",
       "  </tbody>\n",
       "</table>\n",
       "</div>"
      ],
      "text/plain": [
       "          ORDER_NUMBER\n",
       "Location              \n",
       "Gurgaon           3777"
      ]
     },
     "execution_count": 121,
     "metadata": {},
     "output_type": "execute_result"
    }
   ],
   "source": [
    "location_having_delay.groupby(['Location'])[['ORDER_NUMBER']].count().sort_values(by='ORDER_NUMBER',ascending=False).head(1)"
   ]
  },
  {
   "cell_type": "markdown",
   "id": "edc4885d",
   "metadata": {},
   "source": [
    "### Q19. What is the percentage of customers who are males acquired by APP channel?"
   ]
  },
  {
   "cell_type": "code",
   "execution_count": 178,
   "id": "456d204f",
   "metadata": {},
   "outputs": [
    {
     "data": {
      "text/plain": [
       "CUSTOMER_KEY    5262\n",
       "dtype: int64"
      ]
     },
     "execution_count": 178,
     "metadata": {},
     "output_type": "execute_result"
    }
   ],
   "source": [
    "male_app = df[(df['Gender'] == 'M') & (df['Acquired Channel'] == 'APP')]\n",
    "male_app\n",
    "\n",
    "q = male_app.groupby(['CUSTOMER_KEY'])[['CUSTOMER_KEY']].count().count()\n",
    "q"
   ]
  },
  {
   "cell_type": "code",
   "execution_count": 179,
   "id": "006ccc5e",
   "metadata": {},
   "outputs": [
    {
     "data": {
      "text/plain": [
       "CUSTOMER_KEY    9190\n",
       "dtype: int64"
      ]
     },
     "execution_count": 179,
     "metadata": {},
     "output_type": "execute_result"
    }
   ],
   "source": [
    "male_all = df[(df['Gender'] == 'M')]\n",
    "male_all\n",
    "\n",
    "w = male_all.groupby(['CUSTOMER_KEY'])[['CUSTOMER_KEY']].count().count()\n",
    "w"
   ]
  },
  {
   "cell_type": "code",
   "execution_count": 181,
   "id": "b341e81e",
   "metadata": {},
   "outputs": [
    {
     "name": "stdout",
     "output_type": "stream",
     "text": [
      "CUSTOMER_KEY    57.257889\n",
      "dtype: float64\n"
     ]
    }
   ],
   "source": [
    "print((q/w)*100)\n"
   ]
  },
  {
   "cell_type": "markdown",
   "id": "52dce1e7",
   "metadata": {},
   "source": [
    "### Q20. What is the percentage of orders got canceled?"
   ]
  },
  {
   "cell_type": "code",
   "execution_count": 182,
   "id": "65c6ecbc",
   "metadata": {},
   "outputs": [
    {
     "data": {
      "text/plain": [
       "ORDER_STATUS    1110\n",
       "dtype: int64"
      ]
     },
     "execution_count": 182,
     "metadata": {},
     "output_type": "execute_result"
    }
   ],
   "source": [
    "cancelled_orders = df[df['ORDER_STATUS'] == 'Cancelled'][['ORDER_STATUS']].count()\n",
    "cancelled_orders"
   ]
  },
  {
   "cell_type": "code",
   "execution_count": 183,
   "id": "7ebdb064",
   "metadata": {},
   "outputs": [
    {
     "data": {
      "text/plain": [
       "ORDER_STATUS    173657\n",
       "dtype: int64"
      ]
     },
     "execution_count": 183,
     "metadata": {},
     "output_type": "execute_result"
    }
   ],
   "source": [
    "total_orders = df[['ORDER_STATUS']].count()\n",
    "total_orders"
   ]
  },
  {
   "cell_type": "code",
   "execution_count": 184,
   "id": "c959b5d1",
   "metadata": {},
   "outputs": [
    {
     "data": {
      "text/plain": [
       "ORDER_STATUS    0.639191\n",
       "dtype: float64"
      ]
     },
     "execution_count": 184,
     "metadata": {},
     "output_type": "execute_result"
    }
   ],
   "source": [
    "percentage_of_orders_got_canceled = (cancelled_orders/total_orders) * 100\n",
    "percentage_of_orders_got_canceled"
   ]
  },
  {
   "cell_type": "markdown",
   "id": "719c7a7e",
   "metadata": {},
   "source": [
    "### Q21. What is the percentage of orders done by happy customers (Note: Happy customers mean customer who referred other customers)?"
   ]
  },
  {
   "cell_type": "code",
   "execution_count": 205,
   "id": "462e0e10",
   "metadata": {},
   "outputs": [
    {
     "data": {
      "text/html": [
       "<div>\n",
       "<style scoped>\n",
       "    .dataframe tbody tr th:only-of-type {\n",
       "        vertical-align: middle;\n",
       "    }\n",
       "\n",
       "    .dataframe tbody tr th {\n",
       "        vertical-align: top;\n",
       "    }\n",
       "\n",
       "    .dataframe thead th {\n",
       "        text-align: right;\n",
       "    }\n",
       "</style>\n",
       "<table border=\"1\" class=\"dataframe\">\n",
       "  <thead>\n",
       "    <tr style=\"text-align: right;\">\n",
       "      <th></th>\n",
       "      <th>ORDER_NUMBER</th>\n",
       "      <th>CUSTOMER_KEY</th>\n",
       "      <th>ORDER_TOTAL</th>\n",
       "      <th>DISCOUNT</th>\n",
       "      <th>ORDER_DATE</th>\n",
       "      <th>ORDER_STATUS</th>\n",
       "      <th>DELIVERY_STATUS</th>\n",
       "      <th>CUSTOMER_ID</th>\n",
       "      <th>CONTACT_NUMBER</th>\n",
       "      <th>Referred Other customers</th>\n",
       "      <th>Gender</th>\n",
       "      <th>Location</th>\n",
       "      <th>Acquired Channel</th>\n",
       "      <th>month</th>\n",
       "    </tr>\n",
       "  </thead>\n",
       "  <tbody>\n",
       "    <tr>\n",
       "      <th>0</th>\n",
       "      <td>O100000</td>\n",
       "      <td>C100000</td>\n",
       "      <td>85.0</td>\n",
       "      <td>0.0</td>\n",
       "      <td>2016-05-18</td>\n",
       "      <td>Delivered</td>\n",
       "      <td>ON-TIME</td>\n",
       "      <td>1.0</td>\n",
       "      <td>9.693593e+09</td>\n",
       "      <td>N</td>\n",
       "      <td>M</td>\n",
       "      <td>Chennai</td>\n",
       "      <td>APP</td>\n",
       "      <td>5.0</td>\n",
       "    </tr>\n",
       "    <tr>\n",
       "      <th>1</th>\n",
       "      <td>O100000</td>\n",
       "      <td>C100000</td>\n",
       "      <td>85.0</td>\n",
       "      <td>0.0</td>\n",
       "      <td>2016-05-18</td>\n",
       "      <td>Delivered</td>\n",
       "      <td>ON-TIME</td>\n",
       "      <td>11.0</td>\n",
       "      <td>9.693593e+09</td>\n",
       "      <td>N</td>\n",
       "      <td>F</td>\n",
       "      <td>Gurgaon</td>\n",
       "      <td>WEBSITE</td>\n",
       "      <td>5.0</td>\n",
       "    </tr>\n",
       "    <tr>\n",
       "      <th>2</th>\n",
       "      <td>O100000</td>\n",
       "      <td>C100000</td>\n",
       "      <td>85.0</td>\n",
       "      <td>0.0</td>\n",
       "      <td>2016-05-18</td>\n",
       "      <td>Delivered</td>\n",
       "      <td>ON-TIME</td>\n",
       "      <td>18.0</td>\n",
       "      <td>9.693593e+09</td>\n",
       "      <td>N</td>\n",
       "      <td>F</td>\n",
       "      <td>Chennai</td>\n",
       "      <td>WEBSITE</td>\n",
       "      <td>5.0</td>\n",
       "    </tr>\n",
       "    <tr>\n",
       "      <th>3</th>\n",
       "      <td>O100000</td>\n",
       "      <td>C100000</td>\n",
       "      <td>85.0</td>\n",
       "      <td>0.0</td>\n",
       "      <td>2016-05-18</td>\n",
       "      <td>Delivered</td>\n",
       "      <td>ON-TIME</td>\n",
       "      <td>26.0</td>\n",
       "      <td>9.693593e+09</td>\n",
       "      <td>N</td>\n",
       "      <td>M</td>\n",
       "      <td>Others</td>\n",
       "      <td>WEBSITE</td>\n",
       "      <td>5.0</td>\n",
       "    </tr>\n",
       "    <tr>\n",
       "      <th>4</th>\n",
       "      <td>O100000</td>\n",
       "      <td>C100000</td>\n",
       "      <td>85.0</td>\n",
       "      <td>0.0</td>\n",
       "      <td>2016-05-18</td>\n",
       "      <td>Delivered</td>\n",
       "      <td>ON-TIME</td>\n",
       "      <td>6018.0</td>\n",
       "      <td>9.693593e+09</td>\n",
       "      <td>N</td>\n",
       "      <td>M</td>\n",
       "      <td>Gurgaon</td>\n",
       "      <td>WEBSITE</td>\n",
       "      <td>5.0</td>\n",
       "    </tr>\n",
       "  </tbody>\n",
       "</table>\n",
       "</div>"
      ],
      "text/plain": [
       "  ORDER_NUMBER CUSTOMER_KEY  ORDER_TOTAL  DISCOUNT ORDER_DATE ORDER_STATUS  \\\n",
       "0      O100000      C100000         85.0       0.0 2016-05-18    Delivered   \n",
       "1      O100000      C100000         85.0       0.0 2016-05-18    Delivered   \n",
       "2      O100000      C100000         85.0       0.0 2016-05-18    Delivered   \n",
       "3      O100000      C100000         85.0       0.0 2016-05-18    Delivered   \n",
       "4      O100000      C100000         85.0       0.0 2016-05-18    Delivered   \n",
       "\n",
       "  DELIVERY_STATUS  CUSTOMER_ID  CONTACT_NUMBER Referred Other customers  \\\n",
       "0         ON-TIME          1.0    9.693593e+09                        N   \n",
       "1         ON-TIME         11.0    9.693593e+09                        N   \n",
       "2         ON-TIME         18.0    9.693593e+09                        N   \n",
       "3         ON-TIME         26.0    9.693593e+09                        N   \n",
       "4         ON-TIME       6018.0    9.693593e+09                        N   \n",
       "\n",
       "  Gender Location Acquired Channel  month  \n",
       "0      M  Chennai              APP    5.0  \n",
       "1      F  Gurgaon          WEBSITE    5.0  \n",
       "2      F  Chennai          WEBSITE    5.0  \n",
       "3      M   Others          WEBSITE    5.0  \n",
       "4      M  Gurgaon          WEBSITE    5.0  "
      ]
     },
     "execution_count": 205,
     "metadata": {},
     "output_type": "execute_result"
    }
   ],
   "source": [
    "df.head()"
   ]
  },
  {
   "cell_type": "code",
   "execution_count": 210,
   "id": "abee6fb3",
   "metadata": {},
   "outputs": [
    {
     "data": {
      "text/plain": [
       "ORDER_NUMBER    866\n",
       "dtype: int64"
      ]
     },
     "execution_count": 210,
     "metadata": {},
     "output_type": "execute_result"
    }
   ],
   "source": [
    "referred_y = df[df['Referred Other customers'] == 'Y'].groupby([\"CUSTOMER_KEY\"])[['ORDER_NUMBER']].count().sum()\n",
    "referred_y"
   ]
  },
  {
   "cell_type": "code",
   "execution_count": 212,
   "id": "65ad2fb4",
   "metadata": {},
   "outputs": [
    {
     "data": {
      "text/plain": [
       "ORDER_NUMBER    173657\n",
       "dtype: int64"
      ]
     },
     "execution_count": 212,
     "metadata": {},
     "output_type": "execute_result"
    }
   ],
   "source": [
    "referred_all = df.groupby([\"CUSTOMER_KEY\"])[['ORDER_NUMBER']].count().sum()\n",
    "referred_all"
   ]
  },
  {
   "cell_type": "code",
   "execution_count": 213,
   "id": "75a440ed",
   "metadata": {},
   "outputs": [
    {
     "data": {
      "text/plain": [
       "ORDER_NUMBER    0.498684\n",
       "dtype: float64"
      ]
     },
     "execution_count": 213,
     "metadata": {},
     "output_type": "execute_result"
    }
   ],
   "source": [
    "Happy_customers = (referred_y/referred_all) * 100\n",
    "Happy_customers"
   ]
  },
  {
   "cell_type": "markdown",
   "id": "8d94a803",
   "metadata": {},
   "source": [
    "### Q22. Which Location having maximum customers through reference?"
   ]
  },
  {
   "cell_type": "code",
   "execution_count": 218,
   "id": "6fe0b0a1",
   "metadata": {},
   "outputs": [
    {
     "data": {
      "text/html": [
       "<div>\n",
       "<style scoped>\n",
       "    .dataframe tbody tr th:only-of-type {\n",
       "        vertical-align: middle;\n",
       "    }\n",
       "\n",
       "    .dataframe tbody tr th {\n",
       "        vertical-align: top;\n",
       "    }\n",
       "\n",
       "    .dataframe thead th {\n",
       "        text-align: right;\n",
       "    }\n",
       "</style>\n",
       "<table border=\"1\" class=\"dataframe\">\n",
       "  <thead>\n",
       "    <tr style=\"text-align: right;\">\n",
       "      <th></th>\n",
       "      <th>CUSTOMER_KEY</th>\n",
       "    </tr>\n",
       "    <tr>\n",
       "      <th>Location</th>\n",
       "      <th></th>\n",
       "    </tr>\n",
       "  </thead>\n",
       "  <tbody>\n",
       "    <tr>\n",
       "      <th>Gurgaon</th>\n",
       "      <td>390</td>\n",
       "    </tr>\n",
       "  </tbody>\n",
       "</table>\n",
       "</div>"
      ],
      "text/plain": [
       "          CUSTOMER_KEY\n",
       "Location              \n",
       "Gurgaon            390"
      ]
     },
     "execution_count": 218,
     "metadata": {},
     "output_type": "execute_result"
    }
   ],
   "source": [
    "df[df['Referred Other customers'] == 'Y'].groupby(['Location'])[['CUSTOMER_KEY']].count().sort_values(by='CUSTOMER_KEY',ascending=False).head(1)"
   ]
  },
  {
   "cell_type": "markdown",
   "id": "75e0b1d3",
   "metadata": {},
   "source": [
    "### Q23. What is order_total value of male customers who are belongs to Chennai and Happy customers (Happy customer definition is same in question 21)?"
   ]
  },
  {
   "cell_type": "code",
   "execution_count": 221,
   "id": "ae592c23",
   "metadata": {},
   "outputs": [
    {
     "data": {
      "text/plain": [
       "ORDER_TOTAL    521391.0\n",
       "dtype: float64"
      ]
     },
     "execution_count": 221,
     "metadata": {},
     "output_type": "execute_result"
    }
   ],
   "source": [
    "df[(df['Gender'] == 'M') & (df['Location'] == 'Chennai') & (df['Referred Other customers'] == 'Y')][['ORDER_TOTAL']].sum()"
   ]
  },
  {
   "cell_type": "markdown",
   "id": "5991cd7f",
   "metadata": {},
   "source": [
    "### Q24. Which month having maximum order value from male customers belongs to Chennai? "
   ]
  },
  {
   "cell_type": "code",
   "execution_count": 226,
   "id": "2ea07861",
   "metadata": {},
   "outputs": [
    {
     "data": {
      "text/html": [
       "<div>\n",
       "<style scoped>\n",
       "    .dataframe tbody tr th:only-of-type {\n",
       "        vertical-align: middle;\n",
       "    }\n",
       "\n",
       "    .dataframe tbody tr th {\n",
       "        vertical-align: top;\n",
       "    }\n",
       "\n",
       "    .dataframe thead th {\n",
       "        text-align: right;\n",
       "    }\n",
       "</style>\n",
       "<table border=\"1\" class=\"dataframe\">\n",
       "  <thead>\n",
       "    <tr style=\"text-align: right;\">\n",
       "      <th></th>\n",
       "      <th>ORDER_TOTAL</th>\n",
       "    </tr>\n",
       "    <tr>\n",
       "      <th>month</th>\n",
       "      <th></th>\n",
       "    </tr>\n",
       "  </thead>\n",
       "  <tbody>\n",
       "    <tr>\n",
       "      <th>6.0</th>\n",
       "      <td>7067603.52</td>\n",
       "    </tr>\n",
       "  </tbody>\n",
       "</table>\n",
       "</div>"
      ],
      "text/plain": [
       "       ORDER_TOTAL\n",
       "month             \n",
       "6.0     7067603.52"
      ]
     },
     "execution_count": 226,
     "metadata": {},
     "output_type": "execute_result"
    }
   ],
   "source": [
    "df[(df['Gender'] == 'M') & (df['Location'] == 'Chennai')].groupby(['month'])[['ORDER_TOTAL']].sum().sort_values(by='ORDER_TOTAL',ascending=False).head(1)"
   ]
  },
  {
   "cell_type": "markdown",
   "id": "df3bfcb8",
   "metadata": {},
   "source": [
    "### Q25. What are number of discounted orders ordered by female customers who were acquired by website from Bangalore delivered ontime?"
   ]
  },
  {
   "cell_type": "code",
   "execution_count": 233,
   "id": "3b6e96e6",
   "metadata": {},
   "outputs": [
    {
     "data": {
      "text/html": [
       "<div>\n",
       "<style scoped>\n",
       "    .dataframe tbody tr th:only-of-type {\n",
       "        vertical-align: middle;\n",
       "    }\n",
       "\n",
       "    .dataframe tbody tr th {\n",
       "        vertical-align: top;\n",
       "    }\n",
       "\n",
       "    .dataframe thead th {\n",
       "        text-align: right;\n",
       "    }\n",
       "</style>\n",
       "<table border=\"1\" class=\"dataframe\">\n",
       "  <thead>\n",
       "    <tr style=\"text-align: right;\">\n",
       "      <th></th>\n",
       "      <th>ORDER_NUMBER</th>\n",
       "      <th>CUSTOMER_KEY</th>\n",
       "      <th>ORDER_TOTAL</th>\n",
       "      <th>DISCOUNT</th>\n",
       "      <th>ORDER_DATE</th>\n",
       "      <th>ORDER_STATUS</th>\n",
       "      <th>DELIVERY_STATUS</th>\n",
       "      <th>CUSTOMER_ID</th>\n",
       "      <th>CONTACT_NUMBER</th>\n",
       "      <th>Referred Other customers</th>\n",
       "      <th>Gender</th>\n",
       "      <th>Location</th>\n",
       "      <th>Acquired Channel</th>\n",
       "      <th>month</th>\n",
       "    </tr>\n",
       "  </thead>\n",
       "  <tbody>\n",
       "    <tr>\n",
       "      <th>2765</th>\n",
       "      <td>O127788</td>\n",
       "      <td>C10078</td>\n",
       "      <td>1648.50</td>\n",
       "      <td>200.0</td>\n",
       "      <td>2016-07-11</td>\n",
       "      <td>Delivered</td>\n",
       "      <td>ON-TIME</td>\n",
       "      <td>108.0</td>\n",
       "      <td>9.244927e+09</td>\n",
       "      <td>N</td>\n",
       "      <td>F</td>\n",
       "      <td>Bangalore</td>\n",
       "      <td>WEBSITE</td>\n",
       "      <td>7.0</td>\n",
       "    </tr>\n",
       "    <tr>\n",
       "      <th>2767</th>\n",
       "      <td>O127788</td>\n",
       "      <td>C10078</td>\n",
       "      <td>1648.50</td>\n",
       "      <td>200.0</td>\n",
       "      <td>2016-07-11</td>\n",
       "      <td>Delivered</td>\n",
       "      <td>ON-TIME</td>\n",
       "      <td>399.0</td>\n",
       "      <td>9.244927e+09</td>\n",
       "      <td>N</td>\n",
       "      <td>F</td>\n",
       "      <td>Bangalore</td>\n",
       "      <td>WEBSITE</td>\n",
       "      <td>7.0</td>\n",
       "    </tr>\n",
       "    <tr>\n",
       "      <th>27377</th>\n",
       "      <td>O105540</td>\n",
       "      <td>C100812</td>\n",
       "      <td>94.34</td>\n",
       "      <td>200.0</td>\n",
       "      <td>2016-07-04</td>\n",
       "      <td>Delivered</td>\n",
       "      <td>ON-TIME</td>\n",
       "      <td>5931.0</td>\n",
       "      <td>9.953727e+09</td>\n",
       "      <td>N</td>\n",
       "      <td>F</td>\n",
       "      <td>Bangalore</td>\n",
       "      <td>WEBSITE</td>\n",
       "      <td>7.0</td>\n",
       "    </tr>\n",
       "    <tr>\n",
       "      <th>31002</th>\n",
       "      <td>O127526</td>\n",
       "      <td>C100643</td>\n",
       "      <td>362.70</td>\n",
       "      <td>200.0</td>\n",
       "      <td>2016-07-10</td>\n",
       "      <td>Delivered</td>\n",
       "      <td>ON-TIME</td>\n",
       "      <td>27527.0</td>\n",
       "      <td>9.343474e+09</td>\n",
       "      <td>N</td>\n",
       "      <td>F</td>\n",
       "      <td>Bangalore</td>\n",
       "      <td>WEBSITE</td>\n",
       "      <td>7.0</td>\n",
       "    </tr>\n",
       "    <tr>\n",
       "      <th>32832</th>\n",
       "      <td>O105937</td>\n",
       "      <td>C100961</td>\n",
       "      <td>208.00</td>\n",
       "      <td>200.0</td>\n",
       "      <td>2016-07-13</td>\n",
       "      <td>Delivered</td>\n",
       "      <td>ON-TIME</td>\n",
       "      <td>5938.0</td>\n",
       "      <td>9.422833e+09</td>\n",
       "      <td>N</td>\n",
       "      <td>F</td>\n",
       "      <td>Bangalore</td>\n",
       "      <td>WEBSITE</td>\n",
       "      <td>7.0</td>\n",
       "    </tr>\n",
       "    <tr>\n",
       "      <th>...</th>\n",
       "      <td>...</td>\n",
       "      <td>...</td>\n",
       "      <td>...</td>\n",
       "      <td>...</td>\n",
       "      <td>...</td>\n",
       "      <td>...</td>\n",
       "      <td>...</td>\n",
       "      <td>...</td>\n",
       "      <td>...</td>\n",
       "      <td>...</td>\n",
       "      <td>...</td>\n",
       "      <td>...</td>\n",
       "      <td>...</td>\n",
       "      <td>...</td>\n",
       "    </tr>\n",
       "    <tr>\n",
       "      <th>173202</th>\n",
       "      <td>O128193</td>\n",
       "      <td>C19064</td>\n",
       "      <td>35.45</td>\n",
       "      <td>200.0</td>\n",
       "      <td>2016-07-14</td>\n",
       "      <td>Delivered</td>\n",
       "      <td>ON-TIME</td>\n",
       "      <td>28458.0</td>\n",
       "      <td>9.463201e+09</td>\n",
       "      <td>N</td>\n",
       "      <td>F</td>\n",
       "      <td>Bangalore</td>\n",
       "      <td>WEBSITE</td>\n",
       "      <td>7.0</td>\n",
       "    </tr>\n",
       "    <tr>\n",
       "      <th>173250</th>\n",
       "      <td>O128321</td>\n",
       "      <td>C19105</td>\n",
       "      <td>1219.74</td>\n",
       "      <td>200.0</td>\n",
       "      <td>2016-07-13</td>\n",
       "      <td>Delivered</td>\n",
       "      <td>ON-TIME</td>\n",
       "      <td>28322.0</td>\n",
       "      <td>9.960557e+09</td>\n",
       "      <td>N</td>\n",
       "      <td>F</td>\n",
       "      <td>Bangalore</td>\n",
       "      <td>WEBSITE</td>\n",
       "      <td>7.0</td>\n",
       "    </tr>\n",
       "    <tr>\n",
       "      <th>173461</th>\n",
       "      <td>O129002</td>\n",
       "      <td>C19294</td>\n",
       "      <td>2537.93</td>\n",
       "      <td>200.0</td>\n",
       "      <td>2016-07-16</td>\n",
       "      <td>Delivered</td>\n",
       "      <td>ON-TIME</td>\n",
       "      <td>29003.0</td>\n",
       "      <td>9.441064e+09</td>\n",
       "      <td>N</td>\n",
       "      <td>F</td>\n",
       "      <td>Bangalore</td>\n",
       "      <td>WEBSITE</td>\n",
       "      <td>7.0</td>\n",
       "    </tr>\n",
       "    <tr>\n",
       "      <th>173484</th>\n",
       "      <td>O129078</td>\n",
       "      <td>C19312</td>\n",
       "      <td>458.34</td>\n",
       "      <td>200.0</td>\n",
       "      <td>2016-07-16</td>\n",
       "      <td>Delivered</td>\n",
       "      <td>ON-TIME</td>\n",
       "      <td>29079.0</td>\n",
       "      <td>9.360500e+09</td>\n",
       "      <td>N</td>\n",
       "      <td>F</td>\n",
       "      <td>Bangalore</td>\n",
       "      <td>WEBSITE</td>\n",
       "      <td>7.0</td>\n",
       "    </tr>\n",
       "    <tr>\n",
       "      <th>173588</th>\n",
       "      <td>O129320</td>\n",
       "      <td>C19391</td>\n",
       "      <td>287.84</td>\n",
       "      <td>200.0</td>\n",
       "      <td>2016-07-17</td>\n",
       "      <td>Delivered</td>\n",
       "      <td>ON-TIME</td>\n",
       "      <td>29321.0</td>\n",
       "      <td>9.362240e+09</td>\n",
       "      <td>N</td>\n",
       "      <td>F</td>\n",
       "      <td>Bangalore</td>\n",
       "      <td>WEBSITE</td>\n",
       "      <td>7.0</td>\n",
       "    </tr>\n",
       "  </tbody>\n",
       "</table>\n",
       "<p>81 rows × 14 columns</p>\n",
       "</div>"
      ],
      "text/plain": [
       "       ORDER_NUMBER CUSTOMER_KEY  ORDER_TOTAL  DISCOUNT ORDER_DATE  \\\n",
       "2765        O127788       C10078      1648.50     200.0 2016-07-11   \n",
       "2767        O127788       C10078      1648.50     200.0 2016-07-11   \n",
       "27377       O105540      C100812        94.34     200.0 2016-07-04   \n",
       "31002       O127526      C100643       362.70     200.0 2016-07-10   \n",
       "32832       O105937      C100961       208.00     200.0 2016-07-13   \n",
       "...             ...          ...          ...       ...        ...   \n",
       "173202      O128193       C19064        35.45     200.0 2016-07-14   \n",
       "173250      O128321       C19105      1219.74     200.0 2016-07-13   \n",
       "173461      O129002       C19294      2537.93     200.0 2016-07-16   \n",
       "173484      O129078       C19312       458.34     200.0 2016-07-16   \n",
       "173588      O129320       C19391       287.84     200.0 2016-07-17   \n",
       "\n",
       "       ORDER_STATUS DELIVERY_STATUS  CUSTOMER_ID  CONTACT_NUMBER  \\\n",
       "2765      Delivered         ON-TIME        108.0    9.244927e+09   \n",
       "2767      Delivered         ON-TIME        399.0    9.244927e+09   \n",
       "27377     Delivered         ON-TIME       5931.0    9.953727e+09   \n",
       "31002     Delivered         ON-TIME      27527.0    9.343474e+09   \n",
       "32832     Delivered         ON-TIME       5938.0    9.422833e+09   \n",
       "...             ...             ...          ...             ...   \n",
       "173202    Delivered         ON-TIME      28458.0    9.463201e+09   \n",
       "173250    Delivered         ON-TIME      28322.0    9.960557e+09   \n",
       "173461    Delivered         ON-TIME      29003.0    9.441064e+09   \n",
       "173484    Delivered         ON-TIME      29079.0    9.360500e+09   \n",
       "173588    Delivered         ON-TIME      29321.0    9.362240e+09   \n",
       "\n",
       "       Referred Other customers Gender   Location Acquired Channel  month  \n",
       "2765                          N      F  Bangalore          WEBSITE    7.0  \n",
       "2767                          N      F  Bangalore          WEBSITE    7.0  \n",
       "27377                         N      F  Bangalore          WEBSITE    7.0  \n",
       "31002                         N      F  Bangalore          WEBSITE    7.0  \n",
       "32832                         N      F  Bangalore          WEBSITE    7.0  \n",
       "...                         ...    ...        ...              ...    ...  \n",
       "173202                        N      F  Bangalore          WEBSITE    7.0  \n",
       "173250                        N      F  Bangalore          WEBSITE    7.0  \n",
       "173461                        N      F  Bangalore          WEBSITE    7.0  \n",
       "173484                        N      F  Bangalore          WEBSITE    7.0  \n",
       "173588                        N      F  Bangalore          WEBSITE    7.0  \n",
       "\n",
       "[81 rows x 14 columns]"
      ]
     },
     "execution_count": 233,
     "metadata": {},
     "output_type": "execute_result"
    }
   ],
   "source": [
    "no_of_discounted_orders = df[(df['DISCOUNT'] > 0) & (df['Gender'] == 'F') & (df['Acquired Channel'] == 'WEBSITE') & (df['Location'] == 'Bangalore') & (df['DELIVERY_STATUS'] == 'ON-TIME')]\n",
    "no_of_discounted_orders"
   ]
  },
  {
   "cell_type": "code",
   "execution_count": 234,
   "id": "b0020d48",
   "metadata": {},
   "outputs": [
    {
     "data": {
      "text/plain": [
       "81"
      ]
     },
     "execution_count": 234,
     "metadata": {},
     "output_type": "execute_result"
    }
   ],
   "source": [
    "no_of_discounted_orders['DISCOUNT'].count()"
   ]
  },
  {
   "cell_type": "code",
   "execution_count": null,
   "id": "05a8e8f3",
   "metadata": {},
   "outputs": [],
   "source": []
  }
 ],
 "metadata": {
  "kernelspec": {
   "display_name": "Python 3 (ipykernel)",
   "language": "python",
   "name": "python3"
  },
  "language_info": {
   "codemirror_mode": {
    "name": "ipython",
    "version": 3
   },
   "file_extension": ".py",
   "mimetype": "text/x-python",
   "name": "python",
   "nbconvert_exporter": "python",
   "pygments_lexer": "ipython3",
   "version": "3.9.13"
  }
 },
 "nbformat": 4,
 "nbformat_minor": 5
}
